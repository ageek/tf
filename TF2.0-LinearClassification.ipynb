{
 "cells": [
  {
   "cell_type": "code",
   "execution_count": 2,
   "id": "2fdffc90",
   "metadata": {},
   "outputs": [
    {
     "name": "stderr",
     "output_type": "stream",
     "text": [
      "2023-09-27 12:56:06.739192: I tensorflow/tsl/cuda/cudart_stub.cc:28] Could not find cuda drivers on your machine, GPU will not be used.\n",
      "2023-09-27 12:56:06.782620: E tensorflow/compiler/xla/stream_executor/cuda/cuda_dnn.cc:9342] Unable to register cuDNN factory: Attempting to register factory for plugin cuDNN when one has already been registered\n",
      "2023-09-27 12:56:06.782659: E tensorflow/compiler/xla/stream_executor/cuda/cuda_fft.cc:609] Unable to register cuFFT factory: Attempting to register factory for plugin cuFFT when one has already been registered\n",
      "2023-09-27 12:56:06.782697: E tensorflow/compiler/xla/stream_executor/cuda/cuda_blas.cc:1518] Unable to register cuBLAS factory: Attempting to register factory for plugin cuBLAS when one has already been registered\n",
      "2023-09-27 12:56:06.790824: I tensorflow/tsl/cuda/cudart_stub.cc:28] Could not find cuda drivers on your machine, GPU will not be used.\n",
      "2023-09-27 12:56:06.791661: I tensorflow/core/platform/cpu_feature_guard.cc:182] This TensorFlow binary is optimized to use available CPU instructions in performance-critical operations.\n",
      "To enable the following instructions: AVX2 FMA, in other operations, rebuild TensorFlow with the appropriate compiler flags.\n",
      "2023-09-27 12:56:07.906123: W tensorflow/compiler/tf2tensorrt/utils/py_utils.cc:38] TF-TRT Warning: Could not find TensorRT\n",
      "/usr/lib/python3/dist-packages/requests/__init__.py:87: RequestsDependencyWarning: urllib3 (2.0.5) or chardet (4.0.0) doesn't match a supported version!\n",
      "  warnings.warn(\"urllib3 ({}) or chardet ({}) doesn't match a supported \"\n"
     ]
    },
    {
     "name": "stdout",
     "output_type": "stream",
     "text": [
      "2.14.0\n"
     ]
    }
   ],
   "source": [
    "import tensorflow as tf\n",
    "print(tf.__version__)"
   ]
  },
  {
   "cell_type": "code",
   "execution_count": 3,
   "id": "a4eaaf79",
   "metadata": {},
   "outputs": [],
   "source": [
    "from sklearn.datasets import load_breast_cancer"
   ]
  },
  {
   "cell_type": "code",
   "execution_count": 5,
   "id": "a453064b",
   "metadata": {},
   "outputs": [],
   "source": [
    "data = load_breast_cancer()"
   ]
  },
  {
   "cell_type": "code",
   "execution_count": 10,
   "id": "09a3ac21",
   "metadata": {},
   "outputs": [
    {
     "data": {
      "text/plain": [
       "sklearn.utils._bunch.Bunch"
      ]
     },
     "execution_count": 10,
     "metadata": {},
     "output_type": "execute_result"
    }
   ],
   "source": [
    "type(data)"
   ]
  },
  {
   "cell_type": "code",
   "execution_count": 12,
   "id": "fb6365d2",
   "metadata": {},
   "outputs": [
    {
     "data": {
      "text/plain": [
       "{'data': array([[1.799e+01, 1.038e+01, 1.228e+02, ..., 2.654e-01, 4.601e-01,\n",
       "         1.189e-01],\n",
       "        [2.057e+01, 1.777e+01, 1.329e+02, ..., 1.860e-01, 2.750e-01,\n",
       "         8.902e-02],\n",
       "        [1.969e+01, 2.125e+01, 1.300e+02, ..., 2.430e-01, 3.613e-01,\n",
       "         8.758e-02],\n",
       "        ...,\n",
       "        [1.660e+01, 2.808e+01, 1.083e+02, ..., 1.418e-01, 2.218e-01,\n",
       "         7.820e-02],\n",
       "        [2.060e+01, 2.933e+01, 1.401e+02, ..., 2.650e-01, 4.087e-01,\n",
       "         1.240e-01],\n",
       "        [7.760e+00, 2.454e+01, 4.792e+01, ..., 0.000e+00, 2.871e-01,\n",
       "         7.039e-02]]),\n",
       " 'target': array([0, 0, 0, 0, 0, 0, 0, 0, 0, 0, 0, 0, 0, 0, 0, 0, 0, 0, 0, 1, 1, 1,\n",
       "        0, 0, 0, 0, 0, 0, 0, 0, 0, 0, 0, 0, 0, 0, 0, 1, 0, 0, 0, 0, 0, 0,\n",
       "        0, 0, 1, 0, 1, 1, 1, 1, 1, 0, 0, 1, 0, 0, 1, 1, 1, 1, 0, 1, 0, 0,\n",
       "        1, 1, 1, 1, 0, 1, 0, 0, 1, 0, 1, 0, 0, 1, 1, 1, 0, 0, 1, 0, 0, 0,\n",
       "        1, 1, 1, 0, 1, 1, 0, 0, 1, 1, 1, 0, 0, 1, 1, 1, 1, 0, 1, 1, 0, 1,\n",
       "        1, 1, 1, 1, 1, 1, 1, 0, 0, 0, 1, 0, 0, 1, 1, 1, 0, 0, 1, 0, 1, 0,\n",
       "        0, 1, 0, 0, 1, 1, 0, 1, 1, 0, 1, 1, 1, 1, 0, 1, 1, 1, 1, 1, 1, 1,\n",
       "        1, 1, 0, 1, 1, 1, 1, 0, 0, 1, 0, 1, 1, 0, 0, 1, 1, 0, 0, 1, 1, 1,\n",
       "        1, 0, 1, 1, 0, 0, 0, 1, 0, 1, 0, 1, 1, 1, 0, 1, 1, 0, 0, 1, 0, 0,\n",
       "        0, 0, 1, 0, 0, 0, 1, 0, 1, 0, 1, 1, 0, 1, 0, 0, 0, 0, 1, 1, 0, 0,\n",
       "        1, 1, 1, 0, 1, 1, 1, 1, 1, 0, 0, 1, 1, 0, 1, 1, 0, 0, 1, 0, 1, 1,\n",
       "        1, 1, 0, 1, 1, 1, 1, 1, 0, 1, 0, 0, 0, 0, 0, 0, 0, 0, 0, 0, 0, 0,\n",
       "        0, 0, 1, 1, 1, 1, 1, 1, 0, 1, 0, 1, 1, 0, 1, 1, 0, 1, 0, 0, 1, 1,\n",
       "        1, 1, 1, 1, 1, 1, 1, 1, 1, 1, 1, 0, 1, 1, 0, 1, 0, 1, 1, 1, 1, 1,\n",
       "        1, 1, 1, 1, 1, 1, 1, 1, 1, 0, 1, 1, 1, 0, 1, 0, 1, 1, 1, 1, 0, 0,\n",
       "        0, 1, 1, 1, 1, 0, 1, 0, 1, 0, 1, 1, 1, 0, 1, 1, 1, 1, 1, 1, 1, 0,\n",
       "        0, 0, 1, 1, 1, 1, 1, 1, 1, 1, 1, 1, 1, 0, 0, 1, 0, 0, 0, 1, 0, 0,\n",
       "        1, 1, 1, 1, 1, 0, 1, 1, 1, 1, 1, 0, 1, 1, 1, 0, 1, 1, 0, 0, 1, 1,\n",
       "        1, 1, 1, 1, 0, 1, 1, 1, 1, 1, 1, 1, 0, 1, 1, 1, 1, 1, 0, 1, 1, 0,\n",
       "        1, 1, 1, 1, 1, 1, 1, 1, 1, 1, 1, 1, 0, 1, 0, 0, 1, 0, 1, 1, 1, 1,\n",
       "        1, 0, 1, 1, 0, 1, 0, 1, 1, 0, 1, 0, 1, 1, 1, 1, 1, 1, 1, 1, 0, 0,\n",
       "        1, 1, 1, 1, 1, 1, 0, 1, 1, 1, 1, 1, 1, 1, 1, 1, 1, 0, 1, 1, 1, 1,\n",
       "        1, 1, 1, 0, 1, 0, 1, 1, 0, 1, 1, 1, 1, 1, 0, 0, 1, 0, 1, 0, 1, 1,\n",
       "        1, 1, 1, 0, 1, 1, 0, 1, 0, 1, 0, 0, 1, 1, 1, 0, 1, 1, 1, 1, 1, 1,\n",
       "        1, 1, 1, 1, 1, 0, 1, 0, 0, 1, 1, 1, 1, 1, 1, 1, 1, 1, 1, 1, 1, 1,\n",
       "        1, 1, 1, 1, 1, 1, 1, 1, 1, 1, 1, 1, 0, 0, 0, 0, 0, 0, 1]),\n",
       " 'frame': None,\n",
       " 'target_names': array(['malignant', 'benign'], dtype='<U9'),\n",
       " 'DESCR': '.. _breast_cancer_dataset:\\n\\nBreast cancer wisconsin (diagnostic) dataset\\n--------------------------------------------\\n\\n**Data Set Characteristics:**\\n\\n    :Number of Instances: 569\\n\\n    :Number of Attributes: 30 numeric, predictive attributes and the class\\n\\n    :Attribute Information:\\n        - radius (mean of distances from center to points on the perimeter)\\n        - texture (standard deviation of gray-scale values)\\n        - perimeter\\n        - area\\n        - smoothness (local variation in radius lengths)\\n        - compactness (perimeter^2 / area - 1.0)\\n        - concavity (severity of concave portions of the contour)\\n        - concave points (number of concave portions of the contour)\\n        - symmetry\\n        - fractal dimension (\"coastline approximation\" - 1)\\n\\n        The mean, standard error, and \"worst\" or largest (mean of the three\\n        worst/largest values) of these features were computed for each image,\\n        resulting in 30 features.  For instance, field 0 is Mean Radius, field\\n        10 is Radius SE, field 20 is Worst Radius.\\n\\n        - class:\\n                - WDBC-Malignant\\n                - WDBC-Benign\\n\\n    :Summary Statistics:\\n\\n    ===================================== ====== ======\\n                                           Min    Max\\n    ===================================== ====== ======\\n    radius (mean):                        6.981  28.11\\n    texture (mean):                       9.71   39.28\\n    perimeter (mean):                     43.79  188.5\\n    area (mean):                          143.5  2501.0\\n    smoothness (mean):                    0.053  0.163\\n    compactness (mean):                   0.019  0.345\\n    concavity (mean):                     0.0    0.427\\n    concave points (mean):                0.0    0.201\\n    symmetry (mean):                      0.106  0.304\\n    fractal dimension (mean):             0.05   0.097\\n    radius (standard error):              0.112  2.873\\n    texture (standard error):             0.36   4.885\\n    perimeter (standard error):           0.757  21.98\\n    area (standard error):                6.802  542.2\\n    smoothness (standard error):          0.002  0.031\\n    compactness (standard error):         0.002  0.135\\n    concavity (standard error):           0.0    0.396\\n    concave points (standard error):      0.0    0.053\\n    symmetry (standard error):            0.008  0.079\\n    fractal dimension (standard error):   0.001  0.03\\n    radius (worst):                       7.93   36.04\\n    texture (worst):                      12.02  49.54\\n    perimeter (worst):                    50.41  251.2\\n    area (worst):                         185.2  4254.0\\n    smoothness (worst):                   0.071  0.223\\n    compactness (worst):                  0.027  1.058\\n    concavity (worst):                    0.0    1.252\\n    concave points (worst):               0.0    0.291\\n    symmetry (worst):                     0.156  0.664\\n    fractal dimension (worst):            0.055  0.208\\n    ===================================== ====== ======\\n\\n    :Missing Attribute Values: None\\n\\n    :Class Distribution: 212 - Malignant, 357 - Benign\\n\\n    :Creator:  Dr. William H. Wolberg, W. Nick Street, Olvi L. Mangasarian\\n\\n    :Donor: Nick Street\\n\\n    :Date: November, 1995\\n\\nThis is a copy of UCI ML Breast Cancer Wisconsin (Diagnostic) datasets.\\nhttps://goo.gl/U2Uwz2\\n\\nFeatures are computed from a digitized image of a fine needle\\naspirate (FNA) of a breast mass.  They describe\\ncharacteristics of the cell nuclei present in the image.\\n\\nSeparating plane described above was obtained using\\nMultisurface Method-Tree (MSM-T) [K. P. Bennett, \"Decision Tree\\nConstruction Via Linear Programming.\" Proceedings of the 4th\\nMidwest Artificial Intelligence and Cognitive Science Society,\\npp. 97-101, 1992], a classification method which uses linear\\nprogramming to construct a decision tree.  Relevant features\\nwere selected using an exhaustive search in the space of 1-4\\nfeatures and 1-3 separating planes.\\n\\nThe actual linear program used to obtain the separating plane\\nin the 3-dimensional space is that described in:\\n[K. P. Bennett and O. L. Mangasarian: \"Robust Linear\\nProgramming Discrimination of Two Linearly Inseparable Sets\",\\nOptimization Methods and Software 1, 1992, 23-34].\\n\\nThis database is also available through the UW CS ftp server:\\n\\nftp ftp.cs.wisc.edu\\ncd math-prog/cpo-dataset/machine-learn/WDBC/\\n\\n.. topic:: References\\n\\n   - W.N. Street, W.H. Wolberg and O.L. Mangasarian. Nuclear feature extraction \\n     for breast tumor diagnosis. IS&T/SPIE 1993 International Symposium on \\n     Electronic Imaging: Science and Technology, volume 1905, pages 861-870,\\n     San Jose, CA, 1993.\\n   - O.L. Mangasarian, W.N. Street and W.H. Wolberg. Breast cancer diagnosis and \\n     prognosis via linear programming. Operations Research, 43(4), pages 570-577, \\n     July-August 1995.\\n   - W.H. Wolberg, W.N. Street, and O.L. Mangasarian. Machine learning techniques\\n     to diagnose breast cancer from fine-needle aspirates. Cancer Letters 77 (1994) \\n     163-171.',\n",
       " 'feature_names': array(['mean radius', 'mean texture', 'mean perimeter', 'mean area',\n",
       "        'mean smoothness', 'mean compactness', 'mean concavity',\n",
       "        'mean concave points', 'mean symmetry', 'mean fractal dimension',\n",
       "        'radius error', 'texture error', 'perimeter error', 'area error',\n",
       "        'smoothness error', 'compactness error', 'concavity error',\n",
       "        'concave points error', 'symmetry error',\n",
       "        'fractal dimension error', 'worst radius', 'worst texture',\n",
       "        'worst perimeter', 'worst area', 'worst smoothness',\n",
       "        'worst compactness', 'worst concavity', 'worst concave points',\n",
       "        'worst symmetry', 'worst fractal dimension'], dtype='<U23'),\n",
       " 'filename': 'breast_cancer.csv',\n",
       " 'data_module': 'sklearn.datasets.data'}"
      ]
     },
     "execution_count": 12,
     "metadata": {},
     "output_type": "execute_result"
    }
   ],
   "source": [
    "data"
   ]
  },
  {
   "cell_type": "code",
   "execution_count": 13,
   "id": "ac8ce09d",
   "metadata": {},
   "outputs": [
    {
     "data": {
      "text/plain": [
       "dict_keys(['data', 'target', 'frame', 'target_names', 'DESCR', 'feature_names', 'filename', 'data_module'])"
      ]
     },
     "execution_count": 13,
     "metadata": {},
     "output_type": "execute_result"
    }
   ],
   "source": [
    "data.keys()"
   ]
  },
  {
   "cell_type": "code",
   "execution_count": 15,
   "id": "3f07510d",
   "metadata": {},
   "outputs": [
    {
     "data": {
      "text/plain": [
       "array([0, 0, 0, 0, 0, 0, 0, 0, 0, 0, 0, 0, 0, 0, 0, 0, 0, 0, 0, 1, 1, 1,\n",
       "       0, 0, 0, 0, 0, 0, 0, 0, 0, 0, 0, 0, 0, 0, 0, 1, 0, 0, 0, 0, 0, 0,\n",
       "       0, 0, 1, 0, 1, 1, 1, 1, 1, 0, 0, 1, 0, 0, 1, 1, 1, 1, 0, 1, 0, 0,\n",
       "       1, 1, 1, 1, 0, 1, 0, 0, 1, 0, 1, 0, 0, 1, 1, 1, 0, 0, 1, 0, 0, 0,\n",
       "       1, 1, 1, 0, 1, 1, 0, 0, 1, 1, 1, 0, 0, 1, 1, 1, 1, 0, 1, 1, 0, 1,\n",
       "       1, 1, 1, 1, 1, 1, 1, 0, 0, 0, 1, 0, 0, 1, 1, 1, 0, 0, 1, 0, 1, 0,\n",
       "       0, 1, 0, 0, 1, 1, 0, 1, 1, 0, 1, 1, 1, 1, 0, 1, 1, 1, 1, 1, 1, 1,\n",
       "       1, 1, 0, 1, 1, 1, 1, 0, 0, 1, 0, 1, 1, 0, 0, 1, 1, 0, 0, 1, 1, 1,\n",
       "       1, 0, 1, 1, 0, 0, 0, 1, 0, 1, 0, 1, 1, 1, 0, 1, 1, 0, 0, 1, 0, 0,\n",
       "       0, 0, 1, 0, 0, 0, 1, 0, 1, 0, 1, 1, 0, 1, 0, 0, 0, 0, 1, 1, 0, 0,\n",
       "       1, 1, 1, 0, 1, 1, 1, 1, 1, 0, 0, 1, 1, 0, 1, 1, 0, 0, 1, 0, 1, 1,\n",
       "       1, 1, 0, 1, 1, 1, 1, 1, 0, 1, 0, 0, 0, 0, 0, 0, 0, 0, 0, 0, 0, 0,\n",
       "       0, 0, 1, 1, 1, 1, 1, 1, 0, 1, 0, 1, 1, 0, 1, 1, 0, 1, 0, 0, 1, 1,\n",
       "       1, 1, 1, 1, 1, 1, 1, 1, 1, 1, 1, 0, 1, 1, 0, 1, 0, 1, 1, 1, 1, 1,\n",
       "       1, 1, 1, 1, 1, 1, 1, 1, 1, 0, 1, 1, 1, 0, 1, 0, 1, 1, 1, 1, 0, 0,\n",
       "       0, 1, 1, 1, 1, 0, 1, 0, 1, 0, 1, 1, 1, 0, 1, 1, 1, 1, 1, 1, 1, 0,\n",
       "       0, 0, 1, 1, 1, 1, 1, 1, 1, 1, 1, 1, 1, 0, 0, 1, 0, 0, 0, 1, 0, 0,\n",
       "       1, 1, 1, 1, 1, 0, 1, 1, 1, 1, 1, 0, 1, 1, 1, 0, 1, 1, 0, 0, 1, 1,\n",
       "       1, 1, 1, 1, 0, 1, 1, 1, 1, 1, 1, 1, 0, 1, 1, 1, 1, 1, 0, 1, 1, 0,\n",
       "       1, 1, 1, 1, 1, 1, 1, 1, 1, 1, 1, 1, 0, 1, 0, 0, 1, 0, 1, 1, 1, 1,\n",
       "       1, 0, 1, 1, 0, 1, 0, 1, 1, 0, 1, 0, 1, 1, 1, 1, 1, 1, 1, 1, 0, 0,\n",
       "       1, 1, 1, 1, 1, 1, 0, 1, 1, 1, 1, 1, 1, 1, 1, 1, 1, 0, 1, 1, 1, 1,\n",
       "       1, 1, 1, 0, 1, 0, 1, 1, 0, 1, 1, 1, 1, 1, 0, 0, 1, 0, 1, 0, 1, 1,\n",
       "       1, 1, 1, 0, 1, 1, 0, 1, 0, 1, 0, 0, 1, 1, 1, 0, 1, 1, 1, 1, 1, 1,\n",
       "       1, 1, 1, 1, 1, 0, 1, 0, 0, 1, 1, 1, 1, 1, 1, 1, 1, 1, 1, 1, 1, 1,\n",
       "       1, 1, 1, 1, 1, 1, 1, 1, 1, 1, 1, 1, 0, 0, 0, 0, 0, 0, 1])"
      ]
     },
     "execution_count": 15,
     "metadata": {},
     "output_type": "execute_result"
    }
   ],
   "source": [
    "data['target']"
   ]
  },
  {
   "cell_type": "code",
   "execution_count": 17,
   "id": "a0d3083b",
   "metadata": {},
   "outputs": [
    {
     "data": {
      "text/plain": [
       "array([0, 0, 0, 0, 0, 0, 0, 0, 0, 0, 0, 0, 0, 0, 0, 0, 0, 0, 0, 1, 1, 1,\n",
       "       0, 0, 0, 0, 0, 0, 0, 0, 0, 0, 0, 0, 0, 0, 0, 1, 0, 0, 0, 0, 0, 0,\n",
       "       0, 0, 1, 0, 1, 1, 1, 1, 1, 0, 0, 1, 0, 0, 1, 1, 1, 1, 0, 1, 0, 0,\n",
       "       1, 1, 1, 1, 0, 1, 0, 0, 1, 0, 1, 0, 0, 1, 1, 1, 0, 0, 1, 0, 0, 0,\n",
       "       1, 1, 1, 0, 1, 1, 0, 0, 1, 1, 1, 0, 0, 1, 1, 1, 1, 0, 1, 1, 0, 1,\n",
       "       1, 1, 1, 1, 1, 1, 1, 0, 0, 0, 1, 0, 0, 1, 1, 1, 0, 0, 1, 0, 1, 0,\n",
       "       0, 1, 0, 0, 1, 1, 0, 1, 1, 0, 1, 1, 1, 1, 0, 1, 1, 1, 1, 1, 1, 1,\n",
       "       1, 1, 0, 1, 1, 1, 1, 0, 0, 1, 0, 1, 1, 0, 0, 1, 1, 0, 0, 1, 1, 1,\n",
       "       1, 0, 1, 1, 0, 0, 0, 1, 0, 1, 0, 1, 1, 1, 0, 1, 1, 0, 0, 1, 0, 0,\n",
       "       0, 0, 1, 0, 0, 0, 1, 0, 1, 0, 1, 1, 0, 1, 0, 0, 0, 0, 1, 1, 0, 0,\n",
       "       1, 1, 1, 0, 1, 1, 1, 1, 1, 0, 0, 1, 1, 0, 1, 1, 0, 0, 1, 0, 1, 1,\n",
       "       1, 1, 0, 1, 1, 1, 1, 1, 0, 1, 0, 0, 0, 0, 0, 0, 0, 0, 0, 0, 0, 0,\n",
       "       0, 0, 1, 1, 1, 1, 1, 1, 0, 1, 0, 1, 1, 0, 1, 1, 0, 1, 0, 0, 1, 1,\n",
       "       1, 1, 1, 1, 1, 1, 1, 1, 1, 1, 1, 0, 1, 1, 0, 1, 0, 1, 1, 1, 1, 1,\n",
       "       1, 1, 1, 1, 1, 1, 1, 1, 1, 0, 1, 1, 1, 0, 1, 0, 1, 1, 1, 1, 0, 0,\n",
       "       0, 1, 1, 1, 1, 0, 1, 0, 1, 0, 1, 1, 1, 0, 1, 1, 1, 1, 1, 1, 1, 0,\n",
       "       0, 0, 1, 1, 1, 1, 1, 1, 1, 1, 1, 1, 1, 0, 0, 1, 0, 0, 0, 1, 0, 0,\n",
       "       1, 1, 1, 1, 1, 0, 1, 1, 1, 1, 1, 0, 1, 1, 1, 0, 1, 1, 0, 0, 1, 1,\n",
       "       1, 1, 1, 1, 0, 1, 1, 1, 1, 1, 1, 1, 0, 1, 1, 1, 1, 1, 0, 1, 1, 0,\n",
       "       1, 1, 1, 1, 1, 1, 1, 1, 1, 1, 1, 1, 0, 1, 0, 0, 1, 0, 1, 1, 1, 1,\n",
       "       1, 0, 1, 1, 0, 1, 0, 1, 1, 0, 1, 0, 1, 1, 1, 1, 1, 1, 1, 1, 0, 0,\n",
       "       1, 1, 1, 1, 1, 1, 0, 1, 1, 1, 1, 1, 1, 1, 1, 1, 1, 0, 1, 1, 1, 1,\n",
       "       1, 1, 1, 0, 1, 0, 1, 1, 0, 1, 1, 1, 1, 1, 0, 0, 1, 0, 1, 0, 1, 1,\n",
       "       1, 1, 1, 0, 1, 1, 0, 1, 0, 1, 0, 0, 1, 1, 1, 0, 1, 1, 1, 1, 1, 1,\n",
       "       1, 1, 1, 1, 1, 0, 1, 0, 0, 1, 1, 1, 1, 1, 1, 1, 1, 1, 1, 1, 1, 1,\n",
       "       1, 1, 1, 1, 1, 1, 1, 1, 1, 1, 1, 1, 0, 0, 0, 0, 0, 0, 1])"
      ]
     },
     "execution_count": 17,
     "metadata": {},
     "output_type": "execute_result"
    }
   ],
   "source": [
    "data.target"
   ]
  },
  {
   "cell_type": "code",
   "execution_count": 18,
   "id": "480eb25c",
   "metadata": {},
   "outputs": [
    {
     "data": {
      "text/plain": [
       "array(['mean radius', 'mean texture', 'mean perimeter', 'mean area',\n",
       "       'mean smoothness', 'mean compactness', 'mean concavity',\n",
       "       'mean concave points', 'mean symmetry', 'mean fractal dimension',\n",
       "       'radius error', 'texture error', 'perimeter error', 'area error',\n",
       "       'smoothness error', 'compactness error', 'concavity error',\n",
       "       'concave points error', 'symmetry error',\n",
       "       'fractal dimension error', 'worst radius', 'worst texture',\n",
       "       'worst perimeter', 'worst area', 'worst smoothness',\n",
       "       'worst compactness', 'worst concavity', 'worst concave points',\n",
       "       'worst symmetry', 'worst fractal dimension'], dtype='<U23')"
      ]
     },
     "execution_count": 18,
     "metadata": {},
     "output_type": "execute_result"
    }
   ],
   "source": [
    "data.feature_names"
   ]
  },
  {
   "cell_type": "code",
   "execution_count": 24,
   "id": "0a7b88ef",
   "metadata": {},
   "outputs": [
    {
     "data": {
      "text/plain": [
       "(30,)"
      ]
     },
     "execution_count": 24,
     "metadata": {},
     "output_type": "execute_result"
    }
   ],
   "source": [
    "data.feature_names.shape"
   ]
  },
  {
   "cell_type": "code",
   "execution_count": 25,
   "id": "0bd3209a",
   "metadata": {},
   "outputs": [
    {
     "data": {
      "text/plain": [
       "(569, 30)"
      ]
     },
     "execution_count": 25,
     "metadata": {},
     "output_type": "execute_result"
    }
   ],
   "source": [
    "data.data.shape"
   ]
  },
  {
   "cell_type": "code",
   "execution_count": 26,
   "id": "7c08300f",
   "metadata": {},
   "outputs": [
    {
     "data": {
      "text/plain": [
       "numpy.ndarray"
      ]
     },
     "execution_count": 26,
     "metadata": {},
     "output_type": "execute_result"
    }
   ],
   "source": [
    "type(data.data)"
   ]
  },
  {
   "cell_type": "code",
   "execution_count": 27,
   "id": "ff0dd014",
   "metadata": {},
   "outputs": [
    {
     "data": {
      "text/plain": [
       "(569,)"
      ]
     },
     "execution_count": 27,
     "metadata": {},
     "output_type": "execute_result"
    }
   ],
   "source": [
    "data.target.shape"
   ]
  },
  {
   "cell_type": "code",
   "execution_count": 28,
   "id": "2a084d3e",
   "metadata": {},
   "outputs": [
    {
     "data": {
      "text/plain": [
       "array(['malignant', 'benign'], dtype='<U9')"
      ]
     },
     "execution_count": 28,
     "metadata": {},
     "output_type": "execute_result"
    }
   ],
   "source": [
    "data.target_names"
   ]
  },
  {
   "cell_type": "code",
   "execution_count": 29,
   "id": "781d15ef",
   "metadata": {},
   "outputs": [],
   "source": [
    "from sklearn.model_selection import train_test_split"
   ]
  },
  {
   "cell_type": "code",
   "execution_count": 31,
   "id": "43d42717",
   "metadata": {},
   "outputs": [],
   "source": [
    "X_train, X_test, y_train, y_test= train_test_split(data.data, data.target, \n",
    "                                                    test_size=.33)"
   ]
  },
  {
   "cell_type": "code",
   "execution_count": 33,
   "id": "a24839c2",
   "metadata": {},
   "outputs": [
    {
     "data": {
      "text/plain": [
       "(381, 30)"
      ]
     },
     "execution_count": 33,
     "metadata": {},
     "output_type": "execute_result"
    }
   ],
   "source": [
    "X_train.shape"
   ]
  },
  {
   "cell_type": "code",
   "execution_count": 35,
   "id": "5cf9bb4c",
   "metadata": {},
   "outputs": [
    {
     "data": {
      "text/plain": [
       "(188, 30)"
      ]
     },
     "execution_count": 35,
     "metadata": {},
     "output_type": "execute_result"
    }
   ],
   "source": [
    "X_test.shape"
   ]
  },
  {
   "cell_type": "code",
   "execution_count": 40,
   "id": "fa54d7e3",
   "metadata": {},
   "outputs": [
    {
     "data": {
      "text/plain": [
       "(381, 30)"
      ]
     },
     "execution_count": 40,
     "metadata": {},
     "output_type": "execute_result"
    }
   ],
   "source": [
    "N,D=X_train.shape\n",
    "N, D"
   ]
  },
  {
   "cell_type": "code",
   "execution_count": 36,
   "id": "8fc32899",
   "metadata": {},
   "outputs": [],
   "source": [
    "from sklearn.preprocessing import StandardScaler"
   ]
  },
  {
   "cell_type": "code",
   "execution_count": 37,
   "id": "3f8f1b96",
   "metadata": {},
   "outputs": [],
   "source": [
    "scaler = StandardScaler()\n",
    "X_train = scaler.fit_transform(X_train)\n",
    "X_test = scaler.transform(X_test)"
   ]
  },
  {
   "cell_type": "code",
   "execution_count": 42,
   "id": "482e316a",
   "metadata": {},
   "outputs": [],
   "source": [
    "model = tf.keras.models.Sequential([\n",
    "    tf.keras.layers.Input(shape=(D,)),\n",
    "    tf.keras.layers.Dense(1, activation='sigmoid')\n",
    "])"
   ]
  },
  {
   "cell_type": "code",
   "execution_count": 46,
   "id": "e254e1c2",
   "metadata": {},
   "outputs": [],
   "source": [
    "model.compile(optimizer='adam', \n",
    "             loss='binary_crossentropy',\n",
    "             metrics=['accuracy'])"
   ]
  },
  {
   "cell_type": "code",
   "execution_count": 47,
   "id": "e7fc59e1",
   "metadata": {},
   "outputs": [
    {
     "name": "stdout",
     "output_type": "stream",
     "text": [
      "Epoch 1/100\n",
      "12/12 [==============================] - 1s 23ms/step - loss: 0.5216 - accuracy: 0.7795 - val_loss: 0.5130 - val_accuracy: 0.8032\n",
      "Epoch 2/100\n",
      "12/12 [==============================] - 0s 8ms/step - loss: 0.4872 - accuracy: 0.7979 - val_loss: 0.4751 - val_accuracy: 0.8138\n",
      "Epoch 3/100\n",
      "12/12 [==============================] - 0s 7ms/step - loss: 0.4545 - accuracy: 0.8136 - val_loss: 0.4423 - val_accuracy: 0.8351\n",
      "Epoch 4/100\n",
      "12/12 [==============================] - 0s 6ms/step - loss: 0.4275 - accuracy: 0.8268 - val_loss: 0.4120 - val_accuracy: 0.8617\n",
      "Epoch 5/100\n",
      "12/12 [==============================] - 0s 7ms/step - loss: 0.4022 - accuracy: 0.8425 - val_loss: 0.3853 - val_accuracy: 0.8830\n",
      "Epoch 6/100\n",
      "12/12 [==============================] - 0s 7ms/step - loss: 0.3791 - accuracy: 0.8504 - val_loss: 0.3616 - val_accuracy: 0.8936\n",
      "Epoch 7/100\n",
      "12/12 [==============================] - 0s 6ms/step - loss: 0.3589 - accuracy: 0.8661 - val_loss: 0.3401 - val_accuracy: 0.9043\n",
      "Epoch 8/100\n",
      "12/12 [==============================] - 0s 7ms/step - loss: 0.3400 - accuracy: 0.8740 - val_loss: 0.3210 - val_accuracy: 0.9202\n",
      "Epoch 9/100\n",
      "12/12 [==============================] - 0s 6ms/step - loss: 0.3232 - accuracy: 0.8819 - val_loss: 0.3036 - val_accuracy: 0.9309\n",
      "Epoch 10/100\n",
      "12/12 [==============================] - 0s 7ms/step - loss: 0.3075 - accuracy: 0.8898 - val_loss: 0.2881 - val_accuracy: 0.9309\n",
      "Epoch 11/100\n",
      "12/12 [==============================] - 0s 6ms/step - loss: 0.2938 - accuracy: 0.8950 - val_loss: 0.2736 - val_accuracy: 0.9362\n",
      "Epoch 12/100\n",
      "12/12 [==============================] - 0s 7ms/step - loss: 0.2807 - accuracy: 0.8950 - val_loss: 0.2607 - val_accuracy: 0.9362\n",
      "Epoch 13/100\n",
      "12/12 [==============================] - 0s 7ms/step - loss: 0.2686 - accuracy: 0.8976 - val_loss: 0.2491 - val_accuracy: 0.9362\n",
      "Epoch 14/100\n",
      "12/12 [==============================] - 0s 7ms/step - loss: 0.2586 - accuracy: 0.9029 - val_loss: 0.2376 - val_accuracy: 0.9362\n",
      "Epoch 15/100\n",
      "12/12 [==============================] - 0s 6ms/step - loss: 0.2480 - accuracy: 0.9055 - val_loss: 0.2275 - val_accuracy: 0.9362\n",
      "Epoch 16/100\n",
      "12/12 [==============================] - 0s 6ms/step - loss: 0.2388 - accuracy: 0.9081 - val_loss: 0.2184 - val_accuracy: 0.9415\n",
      "Epoch 17/100\n",
      "12/12 [==============================] - 0s 6ms/step - loss: 0.2305 - accuracy: 0.9108 - val_loss: 0.2098 - val_accuracy: 0.9415\n",
      "Epoch 18/100\n",
      "12/12 [==============================] - 0s 7ms/step - loss: 0.2226 - accuracy: 0.9160 - val_loss: 0.2019 - val_accuracy: 0.9362\n",
      "Epoch 19/100\n",
      "12/12 [==============================] - 0s 6ms/step - loss: 0.2156 - accuracy: 0.9265 - val_loss: 0.1945 - val_accuracy: 0.9415\n",
      "Epoch 20/100\n",
      "12/12 [==============================] - 0s 8ms/step - loss: 0.2084 - accuracy: 0.9291 - val_loss: 0.1881 - val_accuracy: 0.9521\n",
      "Epoch 21/100\n",
      "12/12 [==============================] - 0s 7ms/step - loss: 0.2027 - accuracy: 0.9318 - val_loss: 0.1818 - val_accuracy: 0.9521\n",
      "Epoch 22/100\n",
      "12/12 [==============================] - 0s 6ms/step - loss: 0.1967 - accuracy: 0.9318 - val_loss: 0.1762 - val_accuracy: 0.9521\n",
      "Epoch 23/100\n",
      "12/12 [==============================] - 0s 7ms/step - loss: 0.1918 - accuracy: 0.9370 - val_loss: 0.1704 - val_accuracy: 0.9521\n",
      "Epoch 24/100\n",
      "12/12 [==============================] - 0s 6ms/step - loss: 0.1868 - accuracy: 0.9396 - val_loss: 0.1651 - val_accuracy: 0.9628\n",
      "Epoch 25/100\n",
      "12/12 [==============================] - 0s 6ms/step - loss: 0.1819 - accuracy: 0.9396 - val_loss: 0.1603 - val_accuracy: 0.9628\n",
      "Epoch 26/100\n",
      "12/12 [==============================] - 0s 7ms/step - loss: 0.1777 - accuracy: 0.9423 - val_loss: 0.1558 - val_accuracy: 0.9628\n",
      "Epoch 27/100\n",
      "12/12 [==============================] - 0s 8ms/step - loss: 0.1736 - accuracy: 0.9449 - val_loss: 0.1518 - val_accuracy: 0.9628\n",
      "Epoch 28/100\n",
      "12/12 [==============================] - 0s 7ms/step - loss: 0.1700 - accuracy: 0.9449 - val_loss: 0.1477 - val_accuracy: 0.9628\n",
      "Epoch 29/100\n",
      "12/12 [==============================] - 0s 6ms/step - loss: 0.1664 - accuracy: 0.9475 - val_loss: 0.1440 - val_accuracy: 0.9681\n",
      "Epoch 30/100\n",
      "12/12 [==============================] - 0s 7ms/step - loss: 0.1633 - accuracy: 0.9580 - val_loss: 0.1403 - val_accuracy: 0.9734\n",
      "Epoch 31/100\n",
      "12/12 [==============================] - 0s 7ms/step - loss: 0.1600 - accuracy: 0.9580 - val_loss: 0.1369 - val_accuracy: 0.9734\n",
      "Epoch 32/100\n",
      "12/12 [==============================] - 0s 7ms/step - loss: 0.1572 - accuracy: 0.9580 - val_loss: 0.1336 - val_accuracy: 0.9734\n",
      "Epoch 33/100\n",
      "12/12 [==============================] - 0s 6ms/step - loss: 0.1545 - accuracy: 0.9580 - val_loss: 0.1305 - val_accuracy: 0.9787\n",
      "Epoch 34/100\n",
      "12/12 [==============================] - 0s 6ms/step - loss: 0.1518 - accuracy: 0.9606 - val_loss: 0.1277 - val_accuracy: 0.9787\n",
      "Epoch 35/100\n",
      "12/12 [==============================] - 0s 6ms/step - loss: 0.1494 - accuracy: 0.9659 - val_loss: 0.1249 - val_accuracy: 0.9787\n",
      "Epoch 36/100\n",
      "12/12 [==============================] - 0s 7ms/step - loss: 0.1471 - accuracy: 0.9659 - val_loss: 0.1224 - val_accuracy: 0.9787\n",
      "Epoch 37/100\n",
      "12/12 [==============================] - 0s 6ms/step - loss: 0.1449 - accuracy: 0.9659 - val_loss: 0.1199 - val_accuracy: 0.9787\n",
      "Epoch 38/100\n",
      "12/12 [==============================] - 0s 9ms/step - loss: 0.1429 - accuracy: 0.9659 - val_loss: 0.1175 - val_accuracy: 0.9787\n",
      "Epoch 39/100\n",
      "12/12 [==============================] - 0s 7ms/step - loss: 0.1409 - accuracy: 0.9659 - val_loss: 0.1153 - val_accuracy: 0.9787\n",
      "Epoch 40/100\n",
      "12/12 [==============================] - 0s 6ms/step - loss: 0.1390 - accuracy: 0.9685 - val_loss: 0.1132 - val_accuracy: 0.9787\n",
      "Epoch 41/100\n",
      "12/12 [==============================] - 0s 7ms/step - loss: 0.1372 - accuracy: 0.9685 - val_loss: 0.1112 - val_accuracy: 0.9787\n",
      "Epoch 42/100\n",
      "12/12 [==============================] - 0s 7ms/step - loss: 0.1355 - accuracy: 0.9685 - val_loss: 0.1093 - val_accuracy: 0.9787\n",
      "Epoch 43/100\n",
      "12/12 [==============================] - 0s 6ms/step - loss: 0.1339 - accuracy: 0.9685 - val_loss: 0.1074 - val_accuracy: 0.9787\n",
      "Epoch 44/100\n",
      "12/12 [==============================] - 0s 6ms/step - loss: 0.1323 - accuracy: 0.9685 - val_loss: 0.1057 - val_accuracy: 0.9787\n",
      "Epoch 45/100\n",
      "12/12 [==============================] - 0s 7ms/step - loss: 0.1308 - accuracy: 0.9685 - val_loss: 0.1041 - val_accuracy: 0.9787\n",
      "Epoch 46/100\n",
      "12/12 [==============================] - 0s 6ms/step - loss: 0.1294 - accuracy: 0.9685 - val_loss: 0.1024 - val_accuracy: 0.9787\n",
      "Epoch 47/100\n",
      "12/12 [==============================] - 0s 6ms/step - loss: 0.1280 - accuracy: 0.9685 - val_loss: 0.1010 - val_accuracy: 0.9787\n",
      "Epoch 48/100\n",
      "12/12 [==============================] - 0s 6ms/step - loss: 0.1269 - accuracy: 0.9711 - val_loss: 0.0994 - val_accuracy: 0.9787\n",
      "Epoch 49/100\n",
      "12/12 [==============================] - 0s 7ms/step - loss: 0.1254 - accuracy: 0.9711 - val_loss: 0.0980 - val_accuracy: 0.9787\n",
      "Epoch 50/100\n",
      "12/12 [==============================] - 0s 6ms/step - loss: 0.1243 - accuracy: 0.9711 - val_loss: 0.0967 - val_accuracy: 0.9787\n",
      "Epoch 51/100\n",
      "12/12 [==============================] - 0s 7ms/step - loss: 0.1232 - accuracy: 0.9711 - val_loss: 0.0953 - val_accuracy: 0.9787\n",
      "Epoch 52/100\n",
      "12/12 [==============================] - 0s 6ms/step - loss: 0.1220 - accuracy: 0.9711 - val_loss: 0.0941 - val_accuracy: 0.9840\n",
      "Epoch 53/100\n",
      "12/12 [==============================] - 0s 6ms/step - loss: 0.1209 - accuracy: 0.9711 - val_loss: 0.0929 - val_accuracy: 0.9840\n",
      "Epoch 54/100\n",
      "12/12 [==============================] - 0s 10ms/step - loss: 0.1199 - accuracy: 0.9711 - val_loss: 0.0918 - val_accuracy: 0.9840\n",
      "Epoch 55/100\n",
      "12/12 [==============================] - 0s 8ms/step - loss: 0.1189 - accuracy: 0.9711 - val_loss: 0.0908 - val_accuracy: 0.9840\n",
      "Epoch 56/100\n",
      "12/12 [==============================] - 0s 7ms/step - loss: 0.1180 - accuracy: 0.9711 - val_loss: 0.0898 - val_accuracy: 0.9840\n",
      "Epoch 57/100\n",
      "12/12 [==============================] - 0s 6ms/step - loss: 0.1170 - accuracy: 0.9711 - val_loss: 0.0887 - val_accuracy: 0.9840\n",
      "Epoch 58/100\n",
      "12/12 [==============================] - 0s 6ms/step - loss: 0.1161 - accuracy: 0.9685 - val_loss: 0.0878 - val_accuracy: 0.9840\n"
     ]
    },
    {
     "name": "stdout",
     "output_type": "stream",
     "text": [
      "Epoch 59/100\n",
      "12/12 [==============================] - 0s 6ms/step - loss: 0.1152 - accuracy: 0.9711 - val_loss: 0.0868 - val_accuracy: 0.9840\n",
      "Epoch 60/100\n",
      "12/12 [==============================] - 0s 5ms/step - loss: 0.1143 - accuracy: 0.9711 - val_loss: 0.0859 - val_accuracy: 0.9840\n",
      "Epoch 61/100\n",
      "12/12 [==============================] - 0s 6ms/step - loss: 0.1136 - accuracy: 0.9711 - val_loss: 0.0849 - val_accuracy: 0.9840\n",
      "Epoch 62/100\n",
      "12/12 [==============================] - 0s 7ms/step - loss: 0.1127 - accuracy: 0.9711 - val_loss: 0.0842 - val_accuracy: 0.9840\n",
      "Epoch 63/100\n",
      "12/12 [==============================] - 0s 8ms/step - loss: 0.1120 - accuracy: 0.9711 - val_loss: 0.0833 - val_accuracy: 0.9840\n",
      "Epoch 64/100\n",
      "12/12 [==============================] - 0s 7ms/step - loss: 0.1112 - accuracy: 0.9738 - val_loss: 0.0826 - val_accuracy: 0.9840\n",
      "Epoch 65/100\n",
      "12/12 [==============================] - 0s 7ms/step - loss: 0.1105 - accuracy: 0.9738 - val_loss: 0.0817 - val_accuracy: 0.9840\n",
      "Epoch 66/100\n",
      "12/12 [==============================] - 0s 7ms/step - loss: 0.1097 - accuracy: 0.9738 - val_loss: 0.0810 - val_accuracy: 0.9840\n",
      "Epoch 67/100\n",
      "12/12 [==============================] - 0s 8ms/step - loss: 0.1090 - accuracy: 0.9764 - val_loss: 0.0803 - val_accuracy: 0.9840\n",
      "Epoch 68/100\n",
      "12/12 [==============================] - 0s 6ms/step - loss: 0.1084 - accuracy: 0.9764 - val_loss: 0.0796 - val_accuracy: 0.9840\n",
      "Epoch 69/100\n",
      "12/12 [==============================] - 0s 7ms/step - loss: 0.1077 - accuracy: 0.9764 - val_loss: 0.0789 - val_accuracy: 0.9840\n",
      "Epoch 70/100\n",
      "12/12 [==============================] - 0s 6ms/step - loss: 0.1071 - accuracy: 0.9764 - val_loss: 0.0782 - val_accuracy: 0.9840\n",
      "Epoch 71/100\n",
      "12/12 [==============================] - 0s 6ms/step - loss: 0.1065 - accuracy: 0.9764 - val_loss: 0.0776 - val_accuracy: 0.9840\n",
      "Epoch 72/100\n",
      "12/12 [==============================] - 0s 6ms/step - loss: 0.1059 - accuracy: 0.9764 - val_loss: 0.0769 - val_accuracy: 0.9840\n",
      "Epoch 73/100\n",
      "12/12 [==============================] - 0s 7ms/step - loss: 0.1053 - accuracy: 0.9764 - val_loss: 0.0764 - val_accuracy: 0.9840\n",
      "Epoch 74/100\n",
      "12/12 [==============================] - 0s 8ms/step - loss: 0.1047 - accuracy: 0.9790 - val_loss: 0.0758 - val_accuracy: 0.9840\n",
      "Epoch 75/100\n",
      "12/12 [==============================] - 0s 7ms/step - loss: 0.1041 - accuracy: 0.9790 - val_loss: 0.0752 - val_accuracy: 0.9840\n",
      "Epoch 76/100\n",
      "12/12 [==============================] - 0s 7ms/step - loss: 0.1036 - accuracy: 0.9790 - val_loss: 0.0747 - val_accuracy: 0.9840\n",
      "Epoch 77/100\n",
      "12/12 [==============================] - 0s 7ms/step - loss: 0.1031 - accuracy: 0.9790 - val_loss: 0.0741 - val_accuracy: 0.9840\n",
      "Epoch 78/100\n",
      "12/12 [==============================] - 0s 7ms/step - loss: 0.1025 - accuracy: 0.9790 - val_loss: 0.0736 - val_accuracy: 0.9840\n",
      "Epoch 79/100\n",
      "12/12 [==============================] - 0s 7ms/step - loss: 0.1021 - accuracy: 0.9790 - val_loss: 0.0730 - val_accuracy: 0.9840\n",
      "Epoch 80/100\n",
      "12/12 [==============================] - 0s 8ms/step - loss: 0.1015 - accuracy: 0.9790 - val_loss: 0.0727 - val_accuracy: 0.9840\n",
      "Epoch 81/100\n",
      "12/12 [==============================] - 0s 8ms/step - loss: 0.1010 - accuracy: 0.9790 - val_loss: 0.0721 - val_accuracy: 0.9840\n",
      "Epoch 82/100\n",
      "12/12 [==============================] - 0s 8ms/step - loss: 0.1005 - accuracy: 0.9790 - val_loss: 0.0716 - val_accuracy: 0.9840\n",
      "Epoch 83/100\n",
      "12/12 [==============================] - 0s 6ms/step - loss: 0.1001 - accuracy: 0.9790 - val_loss: 0.0711 - val_accuracy: 0.9840\n",
      "Epoch 84/100\n",
      "12/12 [==============================] - 0s 7ms/step - loss: 0.0996 - accuracy: 0.9790 - val_loss: 0.0706 - val_accuracy: 0.9840\n",
      "Epoch 85/100\n",
      "12/12 [==============================] - 0s 6ms/step - loss: 0.0992 - accuracy: 0.9790 - val_loss: 0.0701 - val_accuracy: 0.9840\n",
      "Epoch 86/100\n",
      "12/12 [==============================] - 0s 7ms/step - loss: 0.0987 - accuracy: 0.9790 - val_loss: 0.0697 - val_accuracy: 0.9840\n",
      "Epoch 87/100\n",
      "12/12 [==============================] - 0s 7ms/step - loss: 0.0983 - accuracy: 0.9790 - val_loss: 0.0693 - val_accuracy: 0.9840\n",
      "Epoch 88/100\n",
      "12/12 [==============================] - 0s 5ms/step - loss: 0.0978 - accuracy: 0.9790 - val_loss: 0.0689 - val_accuracy: 0.9840\n",
      "Epoch 89/100\n",
      "12/12 [==============================] - 0s 6ms/step - loss: 0.0975 - accuracy: 0.9790 - val_loss: 0.0686 - val_accuracy: 0.9840\n",
      "Epoch 90/100\n",
      "12/12 [==============================] - 0s 6ms/step - loss: 0.0971 - accuracy: 0.9790 - val_loss: 0.0680 - val_accuracy: 0.9840\n",
      "Epoch 91/100\n",
      "12/12 [==============================] - 0s 6ms/step - loss: 0.0967 - accuracy: 0.9790 - val_loss: 0.0677 - val_accuracy: 0.9840\n",
      "Epoch 92/100\n",
      "12/12 [==============================] - 0s 6ms/step - loss: 0.0962 - accuracy: 0.9790 - val_loss: 0.0673 - val_accuracy: 0.9840\n",
      "Epoch 93/100\n",
      "12/12 [==============================] - 0s 6ms/step - loss: 0.0959 - accuracy: 0.9790 - val_loss: 0.0669 - val_accuracy: 0.9840\n",
      "Epoch 94/100\n",
      "12/12 [==============================] - 0s 7ms/step - loss: 0.0955 - accuracy: 0.9790 - val_loss: 0.0666 - val_accuracy: 0.9840\n",
      "Epoch 95/100\n",
      "12/12 [==============================] - 0s 6ms/step - loss: 0.0951 - accuracy: 0.9790 - val_loss: 0.0662 - val_accuracy: 0.9840\n",
      "Epoch 96/100\n",
      "12/12 [==============================] - 0s 6ms/step - loss: 0.0948 - accuracy: 0.9790 - val_loss: 0.0658 - val_accuracy: 0.9840\n",
      "Epoch 97/100\n",
      "12/12 [==============================] - 0s 6ms/step - loss: 0.0944 - accuracy: 0.9790 - val_loss: 0.0655 - val_accuracy: 0.9840\n",
      "Epoch 98/100\n",
      "12/12 [==============================] - 0s 6ms/step - loss: 0.0941 - accuracy: 0.9790 - val_loss: 0.0652 - val_accuracy: 0.9840\n",
      "Epoch 99/100\n",
      "12/12 [==============================] - 0s 6ms/step - loss: 0.0937 - accuracy: 0.9790 - val_loss: 0.0648 - val_accuracy: 0.9840\n",
      "Epoch 100/100\n",
      "12/12 [==============================] - 0s 6ms/step - loss: 0.0934 - accuracy: 0.9790 - val_loss: 0.0644 - val_accuracy: 0.9840\n"
     ]
    }
   ],
   "source": [
    "r = model.fit(X_train, y_train, validation_data=(X_test, y_test), \n",
    "             epochs=100)"
   ]
  },
  {
   "cell_type": "code",
   "execution_count": 48,
   "id": "d7711f45",
   "metadata": {},
   "outputs": [
    {
     "name": "stdout",
     "output_type": "stream",
     "text": [
      "12/12 [==============================] - 0s 5ms/step - loss: 0.0932 - accuracy: 0.9790\n",
      "Train score:  [0.09316171705722809, 0.9790025949478149]\n",
      "6/6 [==============================] - 0s 2ms/step - loss: 0.0644 - accuracy: 0.9840\n",
      "Test score:  [0.0643608346581459, 0.9840425252914429]\n"
     ]
    }
   ],
   "source": [
    "print(\"Train score: \", model.evaluate(X_train, y_train))\n",
    "print(\"Test score: \", model.evaluate(X_test, y_test))"
   ]
  },
  {
   "cell_type": "code",
   "execution_count": 49,
   "id": "710320ba",
   "metadata": {},
   "outputs": [
    {
     "data": {
      "text/plain": [
       "<matplotlib.legend.Legend at 0x7f351d17f2b0>"
      ]
     },
     "execution_count": 49,
     "metadata": {},
     "output_type": "execute_result"
    },
    {
     "data": {
      "image/png": "[encoded data removed]",
      "text/plain": [
       "<Figure size 640x480 with 1 Axes>"
      ]
     },
     "metadata": {},
     "output_type": "display_data"
    }
   ],
   "source": [
    "import matplotlib.pyplot as plt\n",
    "plt.plot(r.history['loss'], label='loss')\n",
    "plt.plot(r.history['val_loss'], label='val_loss')\n",
    "plt.legend()"
   ]
  },
  {
   "cell_type": "code",
   "execution_count": 50,
   "id": "26d681e5",
   "metadata": {},
   "outputs": [
    {
     "data": {
      "text/plain": [
       "keras.src.callbacks.History"
      ]
     },
     "execution_count": 50,
     "metadata": {},
     "output_type": "execute_result"
    }
   ],
   "source": [
    "type(r)"
   ]
  },
  {
   "cell_type": "code",
   "execution_count": 51,
   "id": "25f7cd8d",
   "metadata": {},
   "outputs": [
    {
     "data": {
      "text/plain": [
       "{'verbose': 1, 'epochs': 100, 'steps': 12}"
      ]
     },
     "execution_count": 51,
     "metadata": {},
     "output_type": "execute_result"
    }
   ],
   "source": [
    "r.params"
   ]
  },
  {
   "cell_type": "code",
   "execution_count": 54,
   "id": "f1597a1a",
   "metadata": {},
   "outputs": [
    {
     "data": {
      "text/plain": [
       "dict_keys(['loss', 'accuracy', 'val_loss', 'val_accuracy'])"
      ]
     },
     "execution_count": 54,
     "metadata": {},
     "output_type": "execute_result"
    }
   ],
   "source": [
    "r.history.keys()"
   ]
  },
  {
   "cell_type": "code",
   "execution_count": 59,
   "id": "42063bf7",
   "metadata": {},
   "outputs": [
    {
     "data": {
      "text/plain": [
       "<matplotlib.legend.Legend at 0x7f351cd1d750>"
      ]
     },
     "execution_count": 59,
     "metadata": {},
     "output_type": "execute_result"
    },
    {
     "data": {
      "image/png": "[encoded data removed]",
      "text/plain": [
       "<Figure size 640x480 with 1 Axes>"
      ]
     },
     "metadata": {},
     "output_type": "display_data"
    }
   ],
   "source": [
    "plt.plot(r.history['accuracy'], label='acc')\n",
    "plt.plot(r.history['val_accuracy'], label='val_accuracy')\n",
    "plt.legend()"
   ]
  },
  {
   "cell_type": "code",
   "execution_count": 61,
   "id": "1b5d8769",
   "metadata": {},
   "outputs": [
    {
     "name": "stdout",
     "output_type": "stream",
     "text": [
      "6/6 [==============================] - 0s 2ms/step\n",
      "[[3.15128684e-01]\n",
      " [9.99810338e-01]\n",
      " [1.12510315e-05]\n",
      " [8.00841302e-02]\n",
      " [1.39089869e-08]\n",
      " [8.77842307e-01]\n",
      " [9.95397449e-01]\n",
      " [9.99952376e-01]\n",
      " [9.39380169e-01]\n",
      " [9.83139336e-01]\n",
      " [1.13157424e-04]\n",
      " [7.52512753e-01]\n",
      " [9.99383748e-01]\n",
      " [9.73827064e-01]\n",
      " [5.94663470e-05]\n",
      " [9.99961734e-01]\n",
      " [1.27076462e-03]\n",
      " [7.14510828e-02]\n",
      " [1.71233981e-03]\n",
      " [7.61806064e-07]\n",
      " [9.51669812e-01]\n",
      " [9.86379862e-01]\n",
      " [9.76488352e-01]\n",
      " [9.83608544e-01]\n",
      " [9.64267612e-01]\n",
      " [3.57784070e-02]\n",
      " [2.91142818e-02]\n",
      " [8.34343439e-08]\n",
      " [9.98780370e-01]\n",
      " [9.96589780e-01]\n",
      " [4.93529812e-03]\n",
      " [1.69227671e-04]\n",
      " [9.83618915e-01]\n",
      " [1.57356691e-02]\n",
      " [9.95057940e-01]\n",
      " [7.15670347e-01]\n",
      " [7.72084475e-01]\n",
      " [9.92068827e-01]\n",
      " [8.40950191e-01]\n",
      " [9.88642216e-01]\n",
      " [8.40662956e-01]\n",
      " [2.89520813e-07]\n",
      " [9.96485412e-01]\n",
      " [6.60328151e-05]\n",
      " [2.96184421e-03]\n",
      " [7.81748295e-01]\n",
      " [9.90674973e-01]\n",
      " [4.41720273e-04]\n",
      " [1.52842040e-05]\n",
      " [9.69082396e-03]\n",
      " [9.99940693e-01]\n",
      " [1.11129893e-05]\n",
      " [3.33905518e-01]\n",
      " [4.98176813e-02]\n",
      " [9.59307551e-01]\n",
      " [9.23939645e-01]\n",
      " [9.01264548e-01]\n",
      " [1.02041597e-02]\n",
      " [3.28337461e-01]\n",
      " [1.54269378e-06]\n",
      " [1.64212601e-03]\n",
      " [9.66141999e-01]\n",
      " [9.93381441e-01]\n",
      " [2.42542767e-04]\n",
      " [9.98443127e-01]\n",
      " [9.88771677e-01]\n",
      " [9.25603688e-01]\n",
      " [8.03755164e-01]\n",
      " [9.59649205e-01]\n",
      " [9.79072452e-01]\n",
      " [9.85386908e-01]\n",
      " [9.84403074e-01]\n",
      " [5.98834574e-01]\n",
      " [9.86979127e-01]\n",
      " [4.39357338e-03]\n",
      " [9.20305490e-01]\n",
      " [3.17652151e-03]\n",
      " [9.92284179e-01]\n",
      " [9.95851874e-01]\n",
      " [9.99582708e-01]\n",
      " [7.16551304e-01]\n",
      " [8.85128438e-01]\n",
      " [9.81516361e-01]\n",
      " [9.14553180e-02]\n",
      " [9.90136147e-01]\n",
      " [9.23600674e-01]\n",
      " [9.89305377e-01]\n",
      " [8.47594871e-04]\n",
      " [9.32574391e-01]\n",
      " [1.35682421e-04]\n",
      " [8.78127337e-01]\n",
      " [9.97348130e-01]\n",
      " [9.93661880e-01]\n",
      " [9.98327971e-01]\n",
      " [6.56109705e-06]\n",
      " [9.89951611e-01]\n",
      " [9.91830289e-01]\n",
      " [9.76767123e-01]\n",
      " [9.99574840e-01]\n",
      " [7.82658815e-01]\n",
      " [9.44074392e-01]\n",
      " [9.93840456e-01]\n",
      " [9.61378217e-01]\n",
      " [9.99225795e-01]\n",
      " [9.93007779e-01]\n",
      " [9.99750257e-01]\n",
      " [7.36570299e-01]\n",
      " [9.92880821e-01]\n",
      " [9.83753264e-01]\n",
      " [9.49232340e-01]\n",
      " [8.54887784e-01]\n",
      " [9.97759223e-01]\n",
      " [4.58114082e-03]\n",
      " [3.65329543e-05]\n",
      " [9.84282732e-01]\n",
      " [2.42931037e-05]\n",
      " [5.62577963e-01]\n",
      " [6.66951761e-02]\n",
      " [9.78265226e-01]\n",
      " [3.35408637e-04]\n",
      " [2.65643630e-05]\n",
      " [7.73305399e-03]\n",
      " [2.44012099e-08]\n",
      " [9.03431118e-01]\n",
      " [9.67559397e-01]\n",
      " [8.41536641e-01]\n",
      " [9.99969602e-01]\n",
      " [9.55598772e-01]\n",
      " [9.41785812e-01]\n",
      " [9.86465156e-01]\n",
      " [5.10411203e-01]\n",
      " [9.08487792e-08]\n",
      " [9.99671280e-01]\n",
      " [9.62787032e-01]\n",
      " [9.90714848e-01]\n",
      " [9.87395048e-01]\n",
      " [9.99244869e-01]\n",
      " [9.71062720e-01]\n",
      " [1.41257206e-02]\n",
      " [9.68849778e-01]\n",
      " [9.49897408e-01]\n",
      " [6.85648501e-01]\n",
      " [1.06727285e-03]\n",
      " [9.80159581e-01]\n",
      " [3.54779363e-02]\n",
      " [8.79004121e-01]\n",
      " [9.43019748e-01]\n",
      " [2.86471960e-03]\n",
      " [9.89769459e-01]\n",
      " [9.96318460e-01]\n",
      " [9.94311512e-01]\n",
      " [8.44732975e-04]\n",
      " [9.97747958e-01]\n",
      " [9.96532559e-01]\n",
      " [9.95611072e-01]\n",
      " [8.01572390e-03]\n",
      " [8.98257375e-01]\n",
      " [2.02604327e-02]\n",
      " [9.99048710e-01]\n",
      " [9.88112450e-01]\n",
      " [9.98683810e-01]\n",
      " [1.11159189e-07]\n",
      " [9.94927883e-01]\n",
      " [9.52570617e-01]\n",
      " [9.87857878e-01]\n",
      " [3.43766004e-01]\n",
      " [9.98363674e-01]\n",
      " [9.90390420e-01]\n",
      " [5.05555596e-04]\n",
      " [9.99769211e-01]\n",
      " [9.98830676e-01]\n",
      " [9.47134078e-01]\n",
      " [8.54256988e-01]\n",
      " [9.87420261e-01]\n",
      " [9.93668258e-01]\n",
      " [9.99018133e-01]\n",
      " [9.94779289e-01]\n",
      " [9.08749819e-01]\n",
      " [2.75445759e-01]\n",
      " [3.85559368e-04]\n",
      " [8.88147697e-05]\n",
      " [9.66049492e-01]\n",
      " [4.39500630e-01]\n",
      " [9.95547354e-01]\n",
      " [9.92543876e-01]\n",
      " [1.33959241e-02]\n",
      " [9.91462469e-01]\n",
      " [1.03303864e-04]]\n"
     ]
    }
   ],
   "source": [
    "#Make predictions\n",
    "P = model.predict(X_test)\n",
    "print(P)"
   ]
  },
  {
   "cell_type": "code",
   "execution_count": 62,
   "id": "e2879e71",
   "metadata": {},
   "outputs": [],
   "source": [
    "import numpy as np"
   ]
  },
  {
   "cell_type": "code",
   "execution_count": 63,
   "id": "21c837d3",
   "metadata": {},
   "outputs": [
    {
     "name": "stdout",
     "output_type": "stream",
     "text": [
      "[0. 1. 0. 0. 0. 1. 1. 1. 1. 1. 0. 1. 1. 1. 0. 1. 0. 0. 0. 0. 1. 1. 1. 1.\n",
      " 1. 0. 0. 0. 1. 1. 0. 0. 1. 0. 1. 1. 1. 1. 1. 1. 1. 0. 1. 0. 0. 1. 1. 0.\n",
      " 0. 0. 1. 0. 0. 0. 1. 1. 1. 0. 0. 0. 0. 1. 1. 0. 1. 1. 1. 1. 1. 1. 1. 1.\n",
      " 1. 1. 0. 1. 0. 1. 1. 1. 1. 1. 1. 0. 1. 1. 1. 0. 1. 0. 1. 1. 1. 1. 0. 1.\n",
      " 1. 1. 1. 1. 1. 1. 1. 1. 1. 1. 1. 1. 1. 1. 1. 1. 0. 0. 1. 0. 1. 0. 1. 0.\n",
      " 0. 0. 0. 1. 1. 1. 1. 1. 1. 1. 1. 0. 1. 1. 1. 1. 1. 1. 0. 1. 1. 1. 0. 1.\n",
      " 0. 1. 1. 0. 1. 1. 1. 0. 1. 1. 1. 0. 1. 0. 1. 1. 1. 0. 1. 1. 1. 0. 1. 1.\n",
      " 0. 1. 1. 1. 1. 1. 1. 1. 1. 1. 0. 0. 0. 1. 0. 1. 1. 0. 1. 0.]\n"
     ]
    }
   ],
   "source": [
    "pp = np.round(P).flatten()\n",
    "print(pp)"
   ]
  },
  {
   "cell_type": "code",
   "execution_count": 68,
   "id": "a3ba8d40",
   "metadata": {},
   "outputs": [
    {
     "name": "stdout",
     "output_type": "stream",
     "text": [
      "Prob=[0.31512868], Pred=0.0\n",
      "Prob=[0.99981034], Pred=1.0\n",
      "Prob=[1.12510315e-05], Pred=0.0\n",
      "Prob=[0.08008413], Pred=0.0\n",
      "Prob=[1.3908987e-08], Pred=0.0\n",
      "Prob=[0.8778423], Pred=1.0\n",
      "Prob=[0.99539745], Pred=1.0\n",
      "Prob=[0.9999524], Pred=1.0\n",
      "Prob=[0.93938017], Pred=1.0\n",
      "Prob=[0.98313934], Pred=1.0\n",
      "Prob=[0.00011316], Pred=0.0\n",
      "Prob=[0.75251275], Pred=1.0\n",
      "Prob=[0.99938375], Pred=1.0\n",
      "Prob=[0.97382706], Pred=1.0\n",
      "Prob=[5.9466347e-05], Pred=0.0\n"
     ]
    }
   ],
   "source": [
    "for x in range(15): \n",
    "    print(f\"Prob={P[x]}, Pred={pp[x]}\")"
   ]
  },
  {
   "cell_type": "code",
   "execution_count": 69,
   "id": "406bec76",
   "metadata": {},
   "outputs": [
    {
     "name": "stdout",
     "output_type": "stream",
     "text": [
      "[0.31512868]\n"
     ]
    }
   ],
   "source": [
    "print(P[0])"
   ]
  },
  {
   "cell_type": "code",
   "execution_count": 70,
   "id": "9d7f923c",
   "metadata": {},
   "outputs": [
    {
     "data": {
      "text/plain": [
       "array([0.], dtype=float32)"
      ]
     },
     "execution_count": 70,
     "metadata": {},
     "output_type": "execute_result"
    }
   ],
   "source": [
    "np.round(P[0])"
   ]
  },
  {
   "cell_type": "code",
   "execution_count": 71,
   "id": "478cfd20",
   "metadata": {},
   "outputs": [
    {
     "data": {
      "text/plain": [
       "array([0.], dtype=float32)"
      ]
     },
     "execution_count": 71,
     "metadata": {},
     "output_type": "execute_result"
    }
   ],
   "source": [
    "np.round(P[0]).flatten()"
   ]
  },
  {
   "cell_type": "code",
   "execution_count": 73,
   "id": "b9838a38",
   "metadata": {},
   "outputs": [
    {
     "name": "stdout",
     "output_type": "stream",
     "text": [
      "Manually calculated accuracy 0.9840425531914894\n"
     ]
    }
   ],
   "source": [
    "print(\"Manually calculated accuracy\", np.mean(pp==y_test))"
   ]
  },
  {
   "cell_type": "code",
   "execution_count": 74,
   "id": "7a4cc58f",
   "metadata": {},
   "outputs": [
    {
     "name": "stdout",
     "output_type": "stream",
     "text": [
      "6/6 [==============================] - 0s 3ms/step - loss: 0.0644 - accuracy: 0.9840\n",
      "Evaluate output:  [0.0643608346581459, 0.9840425252914429]\n"
     ]
    }
   ],
   "source": [
    "print(\"Evaluate output: \", model.evaluate(X_test, y_test))"
   ]
  },
  {
   "cell_type": "code",
   "execution_count": 75,
   "id": "75c82bc3",
   "metadata": {},
   "outputs": [
    {
     "name": "stderr",
     "output_type": "stream",
     "text": [
      "/home/tom/.local/lib/python3.10/site-packages/keras/src/engine/training.py:3079: UserWarning: You are saving your model as an HDF5 file via `model.save()`. This file format is considered legacy. We recommend using instead the native Keras format, e.g. `model.save('my_model.keras')`.\n",
      "  saving_api.save_model(\n"
     ]
    }
   ],
   "source": [
    "model.save(\"LinearClassifer.h5\")"
   ]
  },
  {
   "cell_type": "code",
   "execution_count": 77,
   "id": "69847245",
   "metadata": {},
   "outputs": [],
   "source": [
    "model.save(\"LinearClassifier.keras\")"
   ]
  },
  {
   "cell_type": "code",
   "execution_count": 78,
   "id": "208da191",
   "metadata": {},
   "outputs": [
    {
     "name": "stdout",
     "output_type": "stream",
     "text": [
      "total 932\r\n",
      "drwxr-xr-x 1 tom tom   4096 Mar 11  2023  android\r\n",
      "drwxrwxr-x 1 tom tom      0 Sep 18 11:43  angular\r\n",
      "-rwxr-xr-x 1 tom tom   1483 Mar 22  2023  auto-enable-disable-plugin.sh\r\n",
      "drwxr-xr-x 1 tom tom   4096 Aug  5 17:48  bash\r\n",
      "-rw-rw-r-- 1 tom tom  37977 Sep 23 22:20  clean_df.csv\r\n",
      "drwxr-xr-x 1 tom tom   4096 Aug 16 12:40  clrs\r\n",
      "drwxr-xr-x 1 tom tom   4096 Aug 14 18:55  DailyCodingProblem\r\n",
      "drwxrwxr-x 1 tom tom   4096 Sep 26 17:35  data\r\n",
      "-rw-rw-r-- 1 tom tom  91453 Sep 22 17:13  data-analysis-with-python-week1.ipynb\r\n",
      "-rw-rw-r-- 1 tom tom 161102 Sep 25 09:11  data-analysis-with-python-week2.ipynb\r\n",
      "drwxr-xr-x 1 tom tom   8192 Sep 11 22:34  dcp\r\n",
      "drwxr-xr-x 1 tom tom  20480 Jul 24 21:48  euler\r\n",
      "-rw-rw-r-- 1 tom tom  20240 Sep 28 17:50  LinearClassifer.h5\r\n",
      "-rw-rw-r-- 1 tom tom  17150 Sep 28 17:50  LinearClassifier.keras\r\n",
      "-rw-rw-r-- 1 tom tom   2302 Sep 27 16:56  moore.csv\r\n",
      "-rw-r--r-- 1 tom tom   8192 Sep 26 17:45  mydata.sqlite\r\n",
      "-rw-rw-r-- 1 tom tom 280838 Sep 26 21:27  Numpy-pandas-1.ipynb\r\n",
      "drwxr-xr-x 1 tom tom   4096 Jul  7 10:42  pihole\r\n",
      "drwxrwxr-x 1 tom tom   4096 Sep 19 12:23  pyScripts\r\n",
      "drwxr-xr-x 1 tom tom   4096 Jul 11 11:28  R\r\n",
      "drwxrwxr-x 1 tom tom      0 Sep 14 09:53  springboot\r\n",
      "-rw-rw-r-- 1 tom tom 114973 Sep 28 17:50  TF2.0-LinearClassification.ipynb\r\n",
      "-rw-rw-r-- 1 tom tom 128860 Sep 28 17:26 'TF2-Linear Regression.ipynb'\r\n",
      "-rw-rw-r-- 1 tom tom     72 Sep 22 15:47  Untitled.ipynb\r\n"
     ]
    }
   ],
   "source": [
    "!ls -l"
   ]
  },
  {
   "cell_type": "code",
   "execution_count": 79,
   "id": "7e9073bf",
   "metadata": {},
   "outputs": [
    {
     "name": "stdout",
     "output_type": "stream",
     "text": [
      "<keras.src.engine.sequential.Sequential object at 0x7f34ffbfab60>\n",
      "6/6 [==============================] - 0s 3ms/step - loss: 0.0644 - accuracy: 0.9840\n"
     ]
    },
    {
     "data": {
      "text/plain": [
       "[0.0643608346581459, 0.9840425252914429]"
      ]
     },
     "execution_count": 79,
     "metadata": {},
     "output_type": "execute_result"
    }
   ],
   "source": [
    "model_rev = tf.keras.models.load_model('LinearClassifier.keras')\n",
    "print(model_rev)\n",
    "model.evaluate(X_test, y_test)"
   ]
  },
  {
   "cell_type": "code",
   "execution_count": null,
   "id": "b3ddedb9",
   "metadata": {},
   "outputs": [],
   "source": []
  }
 ],
 "metadata": {
  "kernelspec": {
   "display_name": "Python 3 (ipykernel)",
   "language": "python",
   "name": "python3"
  },
  "language_info": {
   "codemirror_mode": {
    "name": "ipython",
    "version": 3
   },
   "file_extension": ".py",
   "mimetype": "text/x-python",
   "name": "python",
   "nbconvert_exporter": "python",
   "pygments_lexer": "ipython3",
   "version": "3.10.12"
  }
 },
 "nbformat": 4,
 "nbformat_minor": 5
}
