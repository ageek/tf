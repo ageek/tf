{
 "cells": [
  {
   "cell_type": "code",
   "execution_count": 1,
   "id": "b289c161",
   "metadata": {},
   "outputs": [
    {
     "name": "stderr",
     "output_type": "stream",
     "text": [
      "2023-09-27 16:52:02.737667: I tensorflow/tsl/cuda/cudart_stub.cc:28] Could not find cuda drivers on your machine, GPU will not be used.\n",
      "2023-09-27 16:52:02.782544: E tensorflow/compiler/xla/stream_executor/cuda/cuda_dnn.cc:9342] Unable to register cuDNN factory: Attempting to register factory for plugin cuDNN when one has already been registered\n",
      "2023-09-27 16:52:02.782583: E tensorflow/compiler/xla/stream_executor/cuda/cuda_fft.cc:609] Unable to register cuFFT factory: Attempting to register factory for plugin cuFFT when one has already been registered\n",
      "2023-09-27 16:52:02.782618: E tensorflow/compiler/xla/stream_executor/cuda/cuda_blas.cc:1518] Unable to register cuBLAS factory: Attempting to register factory for plugin cuBLAS when one has already been registered\n",
      "2023-09-27 16:52:02.790685: I tensorflow/tsl/cuda/cudart_stub.cc:28] Could not find cuda drivers on your machine, GPU will not be used.\n",
      "2023-09-27 16:52:02.791225: I tensorflow/core/platform/cpu_feature_guard.cc:182] This TensorFlow binary is optimized to use available CPU instructions in performance-critical operations.\n",
      "To enable the following instructions: AVX2 FMA, in other operations, rebuild TensorFlow with the appropriate compiler flags.\n",
      "2023-09-27 16:52:04.507521: W tensorflow/compiler/tf2tensorrt/utils/py_utils.cc:38] TF-TRT Warning: Could not find TensorRT\n",
      "/usr/lib/python3/dist-packages/requests/__init__.py:87: RequestsDependencyWarning: urllib3 (2.0.5) or chardet (4.0.0) doesn't match a supported version!\n",
      "  warnings.warn(\"urllib3 ({}) or chardet ({}) doesn't match a supported \"\n"
     ]
    }
   ],
   "source": [
    "import tensorflow as tf"
   ]
  },
  {
   "cell_type": "code",
   "execution_count": 2,
   "id": "51724813",
   "metadata": {},
   "outputs": [],
   "source": [
    "import pandas as pd\n",
    "import numpy as np\n",
    "import matplotlib.pyplot as plt\n"
   ]
  },
  {
   "cell_type": "code",
   "execution_count": 3,
   "id": "3c4b1ec7",
   "metadata": {},
   "outputs": [
    {
     "name": "stdout",
     "output_type": "stream",
     "text": [
      "--2023-09-27 16:56:39--  https://raw.githubusercontent.com/lazyprogrammer/machine_learning_examples/master/tf2.0/moore.csv\n",
      "Resolving raw.githubusercontent.com (raw.githubusercontent.com)... 185.199.108.133, 185.199.110.133, 185.199.111.133, ...\n",
      "Connecting to raw.githubusercontent.com (raw.githubusercontent.com)|185.199.108.133|:443... connected.\n",
      "HTTP request sent, awaiting response... 200 OK\n",
      "Length: 2302 (2.2K) [text/plain]\n",
      "Saving to: ‘moore.csv’\n",
      "\n",
      "moore.csv           100%[===================>]   2.25K  --.-KB/s    in 0s      \n",
      "\n",
      "2023-09-27 16:56:40 (39.9 MB/s) - ‘moore.csv’ saved [2302/2302]\n",
      "\n"
     ]
    }
   ],
   "source": [
    "#get data\n",
    "!wget -c https://raw.githubusercontent.com/lazyprogrammer/machine_learning_examples/master/tf2.0/moore.csv"
   ]
  },
  {
   "cell_type": "code",
   "execution_count": 8,
   "id": "5e03bfba",
   "metadata": {},
   "outputs": [
    {
     "name": "stdout",
     "output_type": "stream",
     "text": [
      "1971,2300\r\n",
      "1972,3500\r\n",
      "1973,2500\r\n",
      "1973,2500\r\n",
      "1974,4100\r\n",
      "1974,4500\r\n",
      "1974,8000\r\n",
      "1975,3510\r\n",
      "1976,5000\r\n",
      "1976,8500\r\n"
     ]
    }
   ],
   "source": [
    "!head ./moore.csv"
   ]
  },
  {
   "cell_type": "code",
   "execution_count": 9,
   "id": "420f9234",
   "metadata": {},
   "outputs": [],
   "source": [
    "data=pd.read_csv('moore.csv', header=None).to_numpy()"
   ]
  },
  {
   "cell_type": "code",
   "execution_count": 10,
   "id": "a0f90bc8",
   "metadata": {},
   "outputs": [
    {
     "data": {
      "text/plain": [
       "numpy.ndarray"
      ]
     },
     "execution_count": 10,
     "metadata": {},
     "output_type": "execute_result"
    }
   ],
   "source": [
    "type(data)"
   ]
  },
  {
   "cell_type": "code",
   "execution_count": 11,
   "id": "933fbd20",
   "metadata": {},
   "outputs": [
    {
     "data": {
      "text/plain": [
       "(162, 2)"
      ]
     },
     "execution_count": 11,
     "metadata": {},
     "output_type": "execute_result"
    }
   ],
   "source": [
    "data.shape"
   ]
  },
  {
   "cell_type": "code",
   "execution_count": 40,
   "id": "76bb368f",
   "metadata": {},
   "outputs": [],
   "source": [
    "X=data[:,0].reshape(-1,1) #N x D\n",
    "y=data[:,1]"
   ]
  },
  {
   "cell_type": "code",
   "execution_count": 41,
   "id": "842636c4",
   "metadata": {},
   "outputs": [
    {
     "data": {
      "text/plain": [
       "(162, 1)"
      ]
     },
     "execution_count": 41,
     "metadata": {},
     "output_type": "execute_result"
    }
   ],
   "source": [
    "X.shape"
   ]
  },
  {
   "cell_type": "code",
   "execution_count": 42,
   "id": "6d52986c",
   "metadata": {},
   "outputs": [
    {
     "data": {
      "text/plain": [
       "(162,)"
      ]
     },
     "execution_count": 42,
     "metadata": {},
     "output_type": "execute_result"
    }
   ],
   "source": [
    "y.shape"
   ]
  },
  {
   "cell_type": "code",
   "execution_count": 44,
   "id": "3985d821",
   "metadata": {},
   "outputs": [
    {
     "data": {
      "text/plain": [
       "<matplotlib.collections.PathCollection at 0x7f908be04520>"
      ]
     },
     "execution_count": 44,
     "metadata": {},
     "output_type": "execute_result"
    },
    {
     "data": {
      "image/png": "[encoded data removed]",
      "text/plain": [
       "<Figure size 640x480 with 1 Axes>"
      ]
     },
     "metadata": {},
     "output_type": "display_data"
    }
   ],
   "source": [
    "plt.scatter(X, y)"
   ]
  },
  {
   "cell_type": "code",
   "execution_count": 45,
   "id": "6feb01a6",
   "metadata": {},
   "outputs": [
    {
     "data": {
      "text/plain": [
       "<matplotlib.collections.PathCollection at 0x7f908a909690>"
      ]
     },
     "execution_count": 45,
     "metadata": {},
     "output_type": "execute_result"
    },
    {
     "data": {
      "image/png": "[encoded data removed]",
      "text/plain": [
       "<Figure size 640x480 with 1 Axes>"
      ]
     },
     "metadata": {},
     "output_type": "display_data"
    }
   ],
   "source": [
    "Y=np.log(y)\n",
    "plt.scatter(X,Y)"
   ]
  },
  {
   "cell_type": "code",
   "execution_count": 46,
   "id": "9a0cf857",
   "metadata": {},
   "outputs": [],
   "source": [
    "X=X-X.mean()"
   ]
  },
  {
   "cell_type": "code",
   "execution_count": 47,
   "id": "2d5115e6",
   "metadata": {},
   "outputs": [],
   "source": [
    "model = tf.keras.models.Sequential([\n",
    "    tf.keras.layers.Input(shape=(1,)),\n",
    "    tf.keras.layers.Dense(1),\n",
    "])"
   ]
  },
  {
   "cell_type": "code",
   "execution_count": 48,
   "id": "0880da2b",
   "metadata": {},
   "outputs": [],
   "source": [
    "model.compile(\n",
    "    optimizer=tf.keras.optimizers.SGD(0.001, 0.9),\n",
    "    loss='mse',\n",
    ")"
   ]
  },
  {
   "cell_type": "code",
   "execution_count": 49,
   "id": "8aa37104",
   "metadata": {},
   "outputs": [],
   "source": [
    "def schedule(epoch, lr):\n",
    "    if epoch>=50: \n",
    "        return .0001\n",
    "    return .001"
   ]
  },
  {
   "cell_type": "code",
   "execution_count": 50,
   "id": "b138a70b",
   "metadata": {},
   "outputs": [],
   "source": [
    "scheduler = tf.keras.callbacks.LearningRateScheduler(schedule)"
   ]
  },
  {
   "cell_type": "code",
   "execution_count": 51,
   "id": "dd9710dd",
   "metadata": {},
   "outputs": [
    {
     "name": "stdout",
     "output_type": "stream",
     "text": [
      "Epoch 1/200\n",
      "6/6 [==============================] - 0s 4ms/step - loss: 452.6579 - lr: 0.0010\n",
      "Epoch 2/200\n",
      "6/6 [==============================] - 0s 3ms/step - loss: 488.3139 - lr: 0.0010\n",
      "Epoch 3/200\n",
      "6/6 [==============================] - 0s 3ms/step - loss: 403.9322 - lr: 0.0010\n",
      "Epoch 4/200\n",
      "6/6 [==============================] - 0s 3ms/step - loss: 283.5904 - lr: 0.0010\n",
      "Epoch 5/200\n",
      "6/6 [==============================] - 0s 3ms/step - loss: 157.8064 - lr: 0.0010\n",
      "Epoch 6/200\n",
      "6/6 [==============================] - 0s 3ms/step - loss: 119.0507 - lr: 0.0010\n",
      "Epoch 7/200\n",
      "6/6 [==============================] - 0s 2ms/step - loss: 92.3611 - lr: 0.0010\n",
      "Epoch 8/200\n",
      "6/6 [==============================] - 0s 2ms/step - loss: 67.0189 - lr: 0.0010\n",
      "Epoch 9/200\n",
      "6/6 [==============================] - 0s 2ms/step - loss: 44.2594 - lr: 0.0010\n",
      "Epoch 10/200\n",
      "6/6 [==============================] - 0s 3ms/step - loss: 33.2644 - lr: 0.0010\n",
      "Epoch 11/200\n",
      "6/6 [==============================] - 0s 3ms/step - loss: 27.9873 - lr: 0.0010\n",
      "Epoch 12/200\n",
      "6/6 [==============================] - 0s 3ms/step - loss: 25.9988 - lr: 0.0010\n",
      "Epoch 13/200\n",
      "6/6 [==============================] - 0s 3ms/step - loss: 19.6527 - lr: 0.0010\n",
      "Epoch 14/200\n",
      "6/6 [==============================] - 0s 5ms/step - loss: 11.8764 - lr: 0.0010\n",
      "Epoch 15/200\n",
      "6/6 [==============================] - 0s 3ms/step - loss: 9.2435 - lr: 0.0010\n",
      "Epoch 16/200\n",
      "6/6 [==============================] - 0s 3ms/step - loss: 7.0332 - lr: 0.0010\n",
      "Epoch 17/200\n",
      "6/6 [==============================] - 0s 4ms/step - loss: 5.2914 - lr: 0.0010\n",
      "Epoch 18/200\n",
      "6/6 [==============================] - 0s 4ms/step - loss: 3.6654 - lr: 0.0010\n",
      "Epoch 19/200\n",
      "6/6 [==============================] - 0s 4ms/step - loss: 3.2581 - lr: 0.0010\n",
      "Epoch 20/200\n",
      "6/6 [==============================] - 0s 4ms/step - loss: 2.1817 - lr: 0.0010\n",
      "Epoch 21/200\n",
      "6/6 [==============================] - 0s 4ms/step - loss: 1.9329 - lr: 0.0010\n",
      "Epoch 22/200\n",
      "6/6 [==============================] - 0s 3ms/step - loss: 1.5362 - lr: 0.0010\n",
      "Epoch 23/200\n",
      "6/6 [==============================] - 0s 4ms/step - loss: 1.3514 - lr: 0.0010\n",
      "Epoch 24/200\n",
      "6/6 [==============================] - 0s 3ms/step - loss: 1.2289 - lr: 0.0010\n",
      "Epoch 25/200\n",
      "6/6 [==============================] - 0s 3ms/step - loss: 1.1865 - lr: 0.0010\n",
      "Epoch 26/200\n",
      "6/6 [==============================] - 0s 2ms/step - loss: 1.1416 - lr: 0.0010\n",
      "Epoch 27/200\n",
      "6/6 [==============================] - 0s 3ms/step - loss: 1.2166 - lr: 0.0010\n",
      "Epoch 28/200\n",
      "6/6 [==============================] - 0s 3ms/step - loss: 1.5806 - lr: 0.0010\n",
      "Epoch 29/200\n",
      "6/6 [==============================] - 0s 3ms/step - loss: 1.1978 - lr: 0.0010\n",
      "Epoch 30/200\n",
      "6/6 [==============================] - 0s 5ms/step - loss: 1.2379 - lr: 0.0010\n",
      "Epoch 31/200\n",
      "6/6 [==============================] - 0s 5ms/step - loss: 1.1711 - lr: 0.0010\n",
      "Epoch 32/200\n",
      "6/6 [==============================] - 0s 4ms/step - loss: 0.9483 - lr: 0.0010\n",
      "Epoch 33/200\n",
      "6/6 [==============================] - 0s 3ms/step - loss: 0.8810 - lr: 0.0010\n",
      "Epoch 34/200\n",
      "6/6 [==============================] - 0s 4ms/step - loss: 0.9165 - lr: 0.0010\n",
      "Epoch 35/200\n",
      "6/6 [==============================] - 0s 3ms/step - loss: 0.9681 - lr: 0.0010\n",
      "Epoch 36/200\n",
      "6/6 [==============================] - 0s 3ms/step - loss: 1.2335 - lr: 0.0010\n",
      "Epoch 37/200\n",
      "6/6 [==============================] - 0s 3ms/step - loss: 1.0051 - lr: 0.0010\n",
      "Epoch 38/200\n",
      "6/6 [==============================] - 0s 3ms/step - loss: 1.0367 - lr: 0.0010\n",
      "Epoch 39/200\n",
      "6/6 [==============================] - 0s 3ms/step - loss: 1.4633 - lr: 0.0010\n",
      "Epoch 40/200\n",
      "6/6 [==============================] - 0s 3ms/step - loss: 0.9189 - lr: 0.0010\n",
      "Epoch 41/200\n",
      "6/6 [==============================] - 0s 3ms/step - loss: 0.9747 - lr: 0.0010\n",
      "Epoch 42/200\n",
      "6/6 [==============================] - 0s 3ms/step - loss: 1.0551 - lr: 0.0010\n",
      "Epoch 43/200\n",
      "6/6 [==============================] - 0s 3ms/step - loss: 1.7752 - lr: 0.0010\n",
      "Epoch 44/200\n",
      "6/6 [==============================] - 0s 3ms/step - loss: 1.0159 - lr: 0.0010\n",
      "Epoch 45/200\n",
      "6/6 [==============================] - 0s 4ms/step - loss: 0.9885 - lr: 0.0010\n",
      "Epoch 46/200\n",
      "6/6 [==============================] - 0s 3ms/step - loss: 0.8821 - lr: 0.0010\n",
      "Epoch 47/200\n",
      "6/6 [==============================] - 0s 3ms/step - loss: 0.9684 - lr: 0.0010\n",
      "Epoch 48/200\n",
      "6/6 [==============================] - 0s 3ms/step - loss: 0.9090 - lr: 0.0010\n",
      "Epoch 49/200\n",
      "6/6 [==============================] - 0s 3ms/step - loss: 0.9305 - lr: 0.0010\n",
      "Epoch 50/200\n",
      "6/6 [==============================] - 0s 3ms/step - loss: 1.1031 - lr: 0.0010\n",
      "Epoch 51/200\n",
      "6/6 [==============================] - 0s 3ms/step - loss: 0.9115 - lr: 1.0000e-04\n",
      "Epoch 52/200\n",
      "6/6 [==============================] - 0s 3ms/step - loss: 1.1476 - lr: 1.0000e-04\n",
      "Epoch 53/200\n",
      "6/6 [==============================] - 0s 3ms/step - loss: 1.0464 - lr: 1.0000e-04\n",
      "Epoch 54/200\n",
      "6/6 [==============================] - 0s 3ms/step - loss: 0.8698 - lr: 1.0000e-04\n",
      "Epoch 55/200\n",
      "6/6 [==============================] - 0s 3ms/step - loss: 0.9482 - lr: 1.0000e-04\n",
      "Epoch 56/200\n",
      "6/6 [==============================] - 0s 3ms/step - loss: 0.8975 - lr: 1.0000e-04\n",
      "Epoch 57/200\n",
      "6/6 [==============================] - 0s 3ms/step - loss: 0.8811 - lr: 1.0000e-04\n",
      "Epoch 58/200\n",
      "6/6 [==============================] - 0s 3ms/step - loss: 0.8939 - lr: 1.0000e-04\n",
      "Epoch 59/200\n",
      "6/6 [==============================] - 0s 3ms/step - loss: 0.8714 - lr: 1.0000e-04\n",
      "Epoch 60/200\n",
      "6/6 [==============================] - 0s 4ms/step - loss: 0.8725 - lr: 1.0000e-04\n",
      "Epoch 61/200\n",
      "6/6 [==============================] - 0s 3ms/step - loss: 0.8715 - lr: 1.0000e-04\n",
      "Epoch 62/200\n",
      "6/6 [==============================] - 0s 3ms/step - loss: 0.8716 - lr: 1.0000e-04\n",
      "Epoch 63/200\n",
      "6/6 [==============================] - 0s 3ms/step - loss: 0.8740 - lr: 1.0000e-04\n",
      "Epoch 64/200\n",
      "6/6 [==============================] - 0s 4ms/step - loss: 0.8707 - lr: 1.0000e-04\n",
      "Epoch 65/200\n",
      "6/6 [==============================] - 0s 3ms/step - loss: 0.8740 - lr: 1.0000e-04\n",
      "Epoch 66/200\n",
      "6/6 [==============================] - 0s 3ms/step - loss: 0.8732 - lr: 1.0000e-04\n",
      "Epoch 67/200\n",
      "6/6 [==============================] - 0s 3ms/step - loss: 0.8746 - lr: 1.0000e-04\n",
      "Epoch 68/200\n",
      "6/6 [==============================] - 0s 3ms/step - loss: 0.8763 - lr: 1.0000e-04\n",
      "Epoch 69/200\n",
      "6/6 [==============================] - 0s 3ms/step - loss: 0.8727 - lr: 1.0000e-04\n",
      "Epoch 70/200\n",
      "6/6 [==============================] - 0s 3ms/step - loss: 0.8715 - lr: 1.0000e-04\n",
      "Epoch 71/200\n",
      "6/6 [==============================] - 0s 3ms/step - loss: 0.8737 - lr: 1.0000e-04\n",
      "Epoch 72/200\n",
      "6/6 [==============================] - 0s 3ms/step - loss: 0.8706 - lr: 1.0000e-04\n",
      "Epoch 73/200\n",
      "6/6 [==============================] - 0s 3ms/step - loss: 0.8727 - lr: 1.0000e-04\n",
      "Epoch 74/200\n",
      "6/6 [==============================] - 0s 3ms/step - loss: 0.8733 - lr: 1.0000e-04\n",
      "Epoch 75/200\n",
      "6/6 [==============================] - 0s 3ms/step - loss: 0.8732 - lr: 1.0000e-04\n",
      "Epoch 76/200\n",
      "6/6 [==============================] - 0s 3ms/step - loss: 0.8747 - lr: 1.0000e-04\n",
      "Epoch 77/200\n",
      "6/6 [==============================] - 0s 3ms/step - loss: 0.8750 - lr: 1.0000e-04\n",
      "Epoch 78/200\n",
      "6/6 [==============================] - 0s 3ms/step - loss: 0.8708 - lr: 1.0000e-04\n",
      "Epoch 79/200\n",
      "6/6 [==============================] - 0s 3ms/step - loss: 0.8706 - lr: 1.0000e-04\n",
      "Epoch 80/200\n",
      "6/6 [==============================] - 0s 3ms/step - loss: 0.8770 - lr: 1.0000e-04\n",
      "Epoch 81/200\n",
      "6/6 [==============================] - 0s 3ms/step - loss: 0.8706 - lr: 1.0000e-04\n",
      "Epoch 82/200\n",
      "6/6 [==============================] - 0s 3ms/step - loss: 0.8817 - lr: 1.0000e-04\n",
      "Epoch 83/200\n",
      "6/6 [==============================] - 0s 3ms/step - loss: 0.8811 - lr: 1.0000e-04\n",
      "Epoch 84/200\n",
      "6/6 [==============================] - 0s 3ms/step - loss: 0.8751 - lr: 1.0000e-04\n",
      "Epoch 85/200\n",
      "6/6 [==============================] - 0s 3ms/step - loss: 0.8795 - lr: 1.0000e-04\n",
      "Epoch 86/200\n",
      "6/6 [==============================] - 0s 3ms/step - loss: 0.8746 - lr: 1.0000e-04\n",
      "Epoch 87/200\n",
      "6/6 [==============================] - 0s 3ms/step - loss: 0.8731 - lr: 1.0000e-04\n",
      "Epoch 88/200\n"
     ]
    },
    {
     "name": "stdout",
     "output_type": "stream",
     "text": [
      "6/6 [==============================] - 0s 3ms/step - loss: 0.8846 - lr: 1.0000e-04\n",
      "Epoch 89/200\n",
      "6/6 [==============================] - 0s 4ms/step - loss: 0.8763 - lr: 1.0000e-04\n",
      "Epoch 90/200\n",
      "6/6 [==============================] - 0s 4ms/step - loss: 0.8832 - lr: 1.0000e-04\n",
      "Epoch 91/200\n",
      "6/6 [==============================] - 0s 3ms/step - loss: 0.8671 - lr: 1.0000e-04\n",
      "Epoch 92/200\n",
      "6/6 [==============================] - 0s 3ms/step - loss: 0.8742 - lr: 1.0000e-04\n",
      "Epoch 93/200\n",
      "6/6 [==============================] - 0s 3ms/step - loss: 0.8776 - lr: 1.0000e-04\n",
      "Epoch 94/200\n",
      "6/6 [==============================] - 0s 3ms/step - loss: 0.8828 - lr: 1.0000e-04\n",
      "Epoch 95/200\n",
      "6/6 [==============================] - 0s 4ms/step - loss: 0.8734 - lr: 1.0000e-04\n",
      "Epoch 96/200\n",
      "6/6 [==============================] - 0s 3ms/step - loss: 0.8703 - lr: 1.0000e-04\n",
      "Epoch 97/200\n",
      "6/6 [==============================] - 0s 3ms/step - loss: 0.8734 - lr: 1.0000e-04\n",
      "Epoch 98/200\n",
      "6/6 [==============================] - 0s 3ms/step - loss: 0.8707 - lr: 1.0000e-04\n",
      "Epoch 99/200\n",
      "6/6 [==============================] - 0s 4ms/step - loss: 0.8721 - lr: 1.0000e-04\n",
      "Epoch 100/200\n",
      "6/6 [==============================] - 0s 3ms/step - loss: 0.8725 - lr: 1.0000e-04\n",
      "Epoch 101/200\n",
      "6/6 [==============================] - 0s 3ms/step - loss: 0.8714 - lr: 1.0000e-04\n",
      "Epoch 102/200\n",
      "6/6 [==============================] - 0s 2ms/step - loss: 0.8758 - lr: 1.0000e-04\n",
      "Epoch 103/200\n",
      "6/6 [==============================] - 0s 3ms/step - loss: 0.8904 - lr: 1.0000e-04\n",
      "Epoch 104/200\n",
      "6/6 [==============================] - 0s 2ms/step - loss: 0.8694 - lr: 1.0000e-04\n",
      "Epoch 105/200\n",
      "6/6 [==============================] - 0s 4ms/step - loss: 0.8724 - lr: 1.0000e-04\n",
      "Epoch 106/200\n",
      "6/6 [==============================] - 0s 3ms/step - loss: 0.8723 - lr: 1.0000e-04\n",
      "Epoch 107/200\n",
      "6/6 [==============================] - 0s 3ms/step - loss: 0.8720 - lr: 1.0000e-04\n",
      "Epoch 108/200\n",
      "6/6 [==============================] - 0s 3ms/step - loss: 0.8753 - lr: 1.0000e-04\n",
      "Epoch 109/200\n",
      "6/6 [==============================] - 0s 3ms/step - loss: 0.8994 - lr: 1.0000e-04\n",
      "Epoch 110/200\n",
      "6/6 [==============================] - 0s 3ms/step - loss: 0.9129 - lr: 1.0000e-04\n",
      "Epoch 111/200\n",
      "6/6 [==============================] - 0s 3ms/step - loss: 0.8810 - lr: 1.0000e-04\n",
      "Epoch 112/200\n",
      "6/6 [==============================] - 0s 3ms/step - loss: 0.8756 - lr: 1.0000e-04\n",
      "Epoch 113/200\n",
      "6/6 [==============================] - 0s 3ms/step - loss: 0.8681 - lr: 1.0000e-04\n",
      "Epoch 114/200\n",
      "6/6 [==============================] - 0s 3ms/step - loss: 0.8865 - lr: 1.0000e-04\n",
      "Epoch 115/200\n",
      "6/6 [==============================] - 0s 3ms/step - loss: 0.8820 - lr: 1.0000e-04\n",
      "Epoch 116/200\n",
      "6/6 [==============================] - 0s 3ms/step - loss: 0.8711 - lr: 1.0000e-04\n",
      "Epoch 117/200\n",
      "6/6 [==============================] - 0s 3ms/step - loss: 0.8773 - lr: 1.0000e-04\n",
      "Epoch 118/200\n",
      "6/6 [==============================] - 0s 3ms/step - loss: 0.8814 - lr: 1.0000e-04\n",
      "Epoch 119/200\n",
      "6/6 [==============================] - 0s 3ms/step - loss: 0.8753 - lr: 1.0000e-04\n",
      "Epoch 120/200\n",
      "6/6 [==============================] - 0s 3ms/step - loss: 0.8714 - lr: 1.0000e-04\n",
      "Epoch 121/200\n",
      "6/6 [==============================] - 0s 3ms/step - loss: 0.9122 - lr: 1.0000e-04\n",
      "Epoch 122/200\n",
      "6/6 [==============================] - 0s 3ms/step - loss: 0.9588 - lr: 1.0000e-04\n",
      "Epoch 123/200\n",
      "6/6 [==============================] - 0s 3ms/step - loss: 0.9039 - lr: 1.0000e-04\n",
      "Epoch 124/200\n",
      "6/6 [==============================] - 0s 3ms/step - loss: 0.8721 - lr: 1.0000e-04\n",
      "Epoch 125/200\n",
      "6/6 [==============================] - 0s 3ms/step - loss: 0.8800 - lr: 1.0000e-04\n",
      "Epoch 126/200\n",
      "6/6 [==============================] - 0s 3ms/step - loss: 0.8729 - lr: 1.0000e-04\n",
      "Epoch 127/200\n",
      "6/6 [==============================] - 0s 3ms/step - loss: 0.8747 - lr: 1.0000e-04\n",
      "Epoch 128/200\n",
      "6/6 [==============================] - 0s 3ms/step - loss: 0.8737 - lr: 1.0000e-04\n",
      "Epoch 129/200\n",
      "6/6 [==============================] - 0s 3ms/step - loss: 0.8728 - lr: 1.0000e-04\n",
      "Epoch 130/200\n",
      "6/6 [==============================] - 0s 3ms/step - loss: 0.8729 - lr: 1.0000e-04\n",
      "Epoch 131/200\n",
      "6/6 [==============================] - 0s 3ms/step - loss: 0.8768 - lr: 1.0000e-04\n",
      "Epoch 132/200\n",
      "6/6 [==============================] - 0s 3ms/step - loss: 0.8792 - lr: 1.0000e-04\n",
      "Epoch 133/200\n",
      "6/6 [==============================] - 0s 3ms/step - loss: 0.8713 - lr: 1.0000e-04\n",
      "Epoch 134/200\n",
      "6/6 [==============================] - 0s 2ms/step - loss: 0.8707 - lr: 1.0000e-04\n",
      "Epoch 135/200\n",
      "6/6 [==============================] - 0s 3ms/step - loss: 0.8701 - lr: 1.0000e-04\n",
      "Epoch 136/200\n",
      "6/6 [==============================] - 0s 2ms/step - loss: 0.8736 - lr: 1.0000e-04\n",
      "Epoch 137/200\n",
      "6/6 [==============================] - 0s 3ms/step - loss: 0.8764 - lr: 1.0000e-04\n",
      "Epoch 138/200\n",
      "6/6 [==============================] - 0s 3ms/step - loss: 0.8724 - lr: 1.0000e-04\n",
      "Epoch 139/200\n",
      "6/6 [==============================] - 0s 4ms/step - loss: 0.8769 - lr: 1.0000e-04\n",
      "Epoch 140/200\n",
      "6/6 [==============================] - 0s 4ms/step - loss: 0.8738 - lr: 1.0000e-04\n",
      "Epoch 141/200\n",
      "6/6 [==============================] - 0s 4ms/step - loss: 0.8836 - lr: 1.0000e-04\n",
      "Epoch 142/200\n",
      "6/6 [==============================] - 0s 3ms/step - loss: 0.8937 - lr: 1.0000e-04\n",
      "Epoch 143/200\n",
      "6/6 [==============================] - 0s 4ms/step - loss: 0.8863 - lr: 1.0000e-04\n",
      "Epoch 144/200\n",
      "6/6 [==============================] - 0s 3ms/step - loss: 0.8715 - lr: 1.0000e-04\n",
      "Epoch 145/200\n",
      "6/6 [==============================] - 0s 3ms/step - loss: 0.8830 - lr: 1.0000e-04\n",
      "Epoch 146/200\n",
      "6/6 [==============================] - 0s 3ms/step - loss: 0.8828 - lr: 1.0000e-04\n",
      "Epoch 147/200\n",
      "6/6 [==============================] - 0s 3ms/step - loss: 0.8731 - lr: 1.0000e-04\n",
      "Epoch 148/200\n",
      "6/6 [==============================] - 0s 3ms/step - loss: 0.8812 - lr: 1.0000e-04\n",
      "Epoch 149/200\n",
      "6/6 [==============================] - 0s 3ms/step - loss: 0.8760 - lr: 1.0000e-04\n",
      "Epoch 150/200\n",
      "6/6 [==============================] - 0s 7ms/step - loss: 0.8808 - lr: 1.0000e-04\n",
      "Epoch 151/200\n",
      "6/6 [==============================] - 0s 3ms/step - loss: 0.8942 - lr: 1.0000e-04\n",
      "Epoch 152/200\n",
      "6/6 [==============================] - 0s 3ms/step - loss: 0.8914 - lr: 1.0000e-04\n",
      "Epoch 153/200\n",
      "6/6 [==============================] - 0s 4ms/step - loss: 0.8722 - lr: 1.0000e-04\n",
      "Epoch 154/200\n",
      "6/6 [==============================] - 0s 2ms/step - loss: 0.8720 - lr: 1.0000e-04\n",
      "Epoch 155/200\n",
      "6/6 [==============================] - 0s 3ms/step - loss: 0.8738 - lr: 1.0000e-04\n",
      "Epoch 156/200\n",
      "6/6 [==============================] - 0s 3ms/step - loss: 0.8719 - lr: 1.0000e-04\n",
      "Epoch 157/200\n",
      "6/6 [==============================] - 0s 2ms/step - loss: 0.9204 - lr: 1.0000e-04\n",
      "Epoch 158/200\n",
      "6/6 [==============================] - 0s 3ms/step - loss: 0.8895 - lr: 1.0000e-04\n",
      "Epoch 159/200\n",
      "6/6 [==============================] - 0s 3ms/step - loss: 0.8684 - lr: 1.0000e-04\n",
      "Epoch 160/200\n",
      "6/6 [==============================] - 0s 3ms/step - loss: 0.8752 - lr: 1.0000e-04\n",
      "Epoch 161/200\n",
      "6/6 [==============================] - 0s 3ms/step - loss: 0.8722 - lr: 1.0000e-04\n",
      "Epoch 162/200\n",
      "6/6 [==============================] - 0s 3ms/step - loss: 0.8714 - lr: 1.0000e-04\n",
      "Epoch 163/200\n",
      "6/6 [==============================] - 0s 3ms/step - loss: 0.8712 - lr: 1.0000e-04\n",
      "Epoch 164/200\n",
      "6/6 [==============================] - 0s 2ms/step - loss: 0.8740 - lr: 1.0000e-04\n",
      "Epoch 165/200\n",
      "6/6 [==============================] - 0s 3ms/step - loss: 0.8823 - lr: 1.0000e-04\n",
      "Epoch 166/200\n",
      "6/6 [==============================] - 0s 3ms/step - loss: 0.8729 - lr: 1.0000e-04\n",
      "Epoch 167/200\n",
      "6/6 [==============================] - 0s 2ms/step - loss: 0.8760 - lr: 1.0000e-04\n",
      "Epoch 168/200\n",
      "6/6 [==============================] - 0s 3ms/step - loss: 0.8706 - lr: 1.0000e-04\n",
      "Epoch 169/200\n",
      "6/6 [==============================] - 0s 3ms/step - loss: 0.8710 - lr: 1.0000e-04\n",
      "Epoch 170/200\n",
      "6/6 [==============================] - 0s 4ms/step - loss: 0.8767 - lr: 1.0000e-04\n",
      "Epoch 171/200\n",
      "6/6 [==============================] - 0s 3ms/step - loss: 0.8983 - lr: 1.0000e-04\n",
      "Epoch 172/200\n"
     ]
    },
    {
     "name": "stdout",
     "output_type": "stream",
     "text": [
      "6/6 [==============================] - 0s 4ms/step - loss: 0.8740 - lr: 1.0000e-04\n",
      "Epoch 173/200\n",
      "6/6 [==============================] - 0s 4ms/step - loss: 0.8807 - lr: 1.0000e-04\n",
      "Epoch 174/200\n",
      "6/6 [==============================] - 0s 3ms/step - loss: 0.8733 - lr: 1.0000e-04\n",
      "Epoch 175/200\n",
      "6/6 [==============================] - 0s 3ms/step - loss: 0.8705 - lr: 1.0000e-04\n",
      "Epoch 176/200\n",
      "6/6 [==============================] - 0s 3ms/step - loss: 0.8754 - lr: 1.0000e-04\n",
      "Epoch 177/200\n",
      "6/6 [==============================] - 0s 3ms/step - loss: 0.8969 - lr: 1.0000e-04\n",
      "Epoch 178/200\n",
      "6/6 [==============================] - 0s 3ms/step - loss: 0.9320 - lr: 1.0000e-04\n",
      "Epoch 179/200\n",
      "6/6 [==============================] - 0s 3ms/step - loss: 0.8797 - lr: 1.0000e-04\n",
      "Epoch 180/200\n",
      "6/6 [==============================] - 0s 3ms/step - loss: 0.8866 - lr: 1.0000e-04\n",
      "Epoch 181/200\n",
      "6/6 [==============================] - 0s 3ms/step - loss: 0.8760 - lr: 1.0000e-04\n",
      "Epoch 182/200\n",
      "6/6 [==============================] - 0s 3ms/step - loss: 0.8737 - lr: 1.0000e-04\n",
      "Epoch 183/200\n",
      "6/6 [==============================] - 0s 4ms/step - loss: 0.8780 - lr: 1.0000e-04\n",
      "Epoch 184/200\n",
      "6/6 [==============================] - 0s 3ms/step - loss: 0.8749 - lr: 1.0000e-04\n",
      "Epoch 185/200\n",
      "6/6 [==============================] - 0s 4ms/step - loss: 0.8773 - lr: 1.0000e-04\n",
      "Epoch 186/200\n",
      "6/6 [==============================] - 0s 4ms/step - loss: 0.8773 - lr: 1.0000e-04\n",
      "Epoch 187/200\n",
      "6/6 [==============================] - 0s 3ms/step - loss: 0.8768 - lr: 1.0000e-04\n",
      "Epoch 188/200\n",
      "6/6 [==============================] - 0s 3ms/step - loss: 0.8721 - lr: 1.0000e-04\n",
      "Epoch 189/200\n",
      "6/6 [==============================] - 0s 4ms/step - loss: 0.8705 - lr: 1.0000e-04\n",
      "Epoch 190/200\n",
      "6/6 [==============================] - 0s 3ms/step - loss: 0.8718 - lr: 1.0000e-04\n",
      "Epoch 191/200\n",
      "6/6 [==============================] - 0s 3ms/step - loss: 0.8730 - lr: 1.0000e-04\n",
      "Epoch 192/200\n",
      "6/6 [==============================] - 0s 3ms/step - loss: 0.8710 - lr: 1.0000e-04\n",
      "Epoch 193/200\n",
      "6/6 [==============================] - 0s 3ms/step - loss: 0.8746 - lr: 1.0000e-04\n",
      "Epoch 194/200\n",
      "6/6 [==============================] - 0s 3ms/step - loss: 0.8732 - lr: 1.0000e-04\n",
      "Epoch 195/200\n",
      "6/6 [==============================] - 0s 3ms/step - loss: 0.8708 - lr: 1.0000e-04\n",
      "Epoch 196/200\n",
      "6/6 [==============================] - 0s 3ms/step - loss: 0.8750 - lr: 1.0000e-04\n",
      "Epoch 197/200\n",
      "6/6 [==============================] - 0s 2ms/step - loss: 0.8730 - lr: 1.0000e-04\n",
      "Epoch 198/200\n",
      "6/6 [==============================] - 0s 3ms/step - loss: 0.8725 - lr: 1.0000e-04\n",
      "Epoch 199/200\n",
      "6/6 [==============================] - 0s 3ms/step - loss: 0.8730 - lr: 1.0000e-04\n",
      "Epoch 200/200\n",
      "6/6 [==============================] - 0s 3ms/step - loss: 0.8948 - lr: 1.0000e-04\n"
     ]
    }
   ],
   "source": [
    "r = model.fit(X, Y, epochs=200, callbacks=[scheduler])"
   ]
  },
  {
   "cell_type": "code",
   "execution_count": 52,
   "id": "b8e0dcc7",
   "metadata": {},
   "outputs": [
    {
     "data": {
      "text/plain": [
       "<matplotlib.legend.Legend at 0x7f90884f5480>"
      ]
     },
     "execution_count": 52,
     "metadata": {},
     "output_type": "execute_result"
    },
    {
     "data": {
      "image/png": "[encoded data removed]",
      "text/plain": [
       "<Figure size 640x480 with 1 Axes>"
      ]
     },
     "metadata": {},
     "output_type": "display_data"
    }
   ],
   "source": [
    "#plot the loss\n",
    "plt.plot(r.history['loss'], label='loss')\n",
    "plt.legend()"
   ]
  },
  {
   "cell_type": "code",
   "execution_count": 53,
   "id": "ac26921b",
   "metadata": {},
   "outputs": [
    {
     "data": {
      "text/plain": [
       "[<keras.src.layers.core.dense.Dense at 0x7f908a4e5b10>]"
      ]
     },
     "execution_count": 53,
     "metadata": {},
     "output_type": "execute_result"
    }
   ],
   "source": [
    "model.layers"
   ]
  },
  {
   "cell_type": "code",
   "execution_count": 54,
   "id": "a21237d5",
   "metadata": {},
   "outputs": [
    {
     "data": {
      "text/plain": [
       "[array([[0.32549992]], dtype=float32), array([17.765316], dtype=float32)]"
      ]
     },
     "execution_count": 54,
     "metadata": {},
     "output_type": "execute_result"
    }
   ],
   "source": [
    "model.layers[0].get_weights()"
   ]
  },
  {
   "cell_type": "code",
   "execution_count": 56,
   "id": "9d764e71",
   "metadata": {},
   "outputs": [
    {
     "data": {
      "text/plain": [
       "0.32549992"
      ]
     },
     "execution_count": 56,
     "metadata": {},
     "output_type": "execute_result"
    }
   ],
   "source": [
    "a = model.layers[0].get_weights()[0][0,0]\n",
    "a"
   ]
  },
  {
   "cell_type": "code",
   "execution_count": 58,
   "id": "70a58564",
   "metadata": {},
   "outputs": [
    {
     "name": "stdout",
     "output_type": "stream",
     "text": [
      "Time to double:  2.12948493573184\n"
     ]
    }
   ],
   "source": [
    "print(\"Time to double: \", np.log(2)/a)"
   ]
  },
  {
   "cell_type": "code",
   "execution_count": 59,
   "id": "32063e6e",
   "metadata": {},
   "outputs": [
    {
     "name": "stdout",
     "output_type": "stream",
     "text": [
      "6/6 [==============================] - 0s 2ms/step\n"
     ]
    }
   ],
   "source": [
    "Yhat = model.predict(X).flatten()"
   ]
  },
  {
   "cell_type": "code",
   "execution_count": 60,
   "id": "517eab9b",
   "metadata": {},
   "outputs": [
    {
     "data": {
      "text/plain": [
       "[<matplotlib.lines.Line2D at 0x7f90842623e0>]"
      ]
     },
     "execution_count": 60,
     "metadata": {},
     "output_type": "execute_result"
    },
    {
     "data": {
      "image/png": "[encoded data removed]",
      "text/plain": [
       "<Figure size 640x480 with 1 Axes>"
      ]
     },
     "metadata": {},
     "output_type": "display_data"
    }
   ],
   "source": [
    "plt.scatter(X, Y)\n",
    "plt.plot(X, Yhat)"
   ]
  },
  {
   "cell_type": "code",
   "execution_count": 61,
   "id": "3d553166",
   "metadata": {},
   "outputs": [
    {
     "data": {
      "text/plain": [
       "True"
      ]
     },
     "execution_count": 61,
     "metadata": {},
     "output_type": "execute_result"
    }
   ],
   "source": [
    "w, b = model.layers[0].get_weights()\n",
    "\n",
    "#reshape as it was flattened earlier\n",
    "X =  X.reshape(-1,1)\n",
    "Yhat2 = (X.dot(w) + b).flatten()\n",
    "np.allclose(Yhat, Yhat2)"
   ]
  },
  {
   "cell_type": "code",
   "execution_count": null,
   "id": "9910b285",
   "metadata": {},
   "outputs": [],
   "source": []
  }
 ],
 "metadata": {
  "kernelspec": {
   "display_name": "Python 3 (ipykernel)",
   "language": "python",
   "name": "python3"
  },
  "language_info": {
   "codemirror_mode": {
    "name": "ipython",
    "version": 3
   },
   "file_extension": ".py",
   "mimetype": "text/x-python",
   "name": "python",
   "nbconvert_exporter": "python",
   "pygments_lexer": "ipython3",
   "version": "3.10.12"
  }
 },
 "nbformat": 4,
 "nbformat_minor": 5
}
